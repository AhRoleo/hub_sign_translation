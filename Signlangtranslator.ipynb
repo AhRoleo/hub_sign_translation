{
 "cells": [
  {
   "cell_type": "markdown",
   "metadata": {
    "id": "QUANWN3rpfC9"
   },
   "source": [
    "# 0. Setup Paths"
   ]
  },
  {
   "cell_type": "code",
   "execution_count": 1,
   "metadata": {
    "id": "146BB11JpfDA"
   },
   "outputs": [],
   "source": [
    "import os"
   ]
  },
  {
   "cell_type": "code",
   "execution_count": 2,
   "metadata": {
    "id": "42hJEdo_pfDB"
   },
   "outputs": [],
   "source": [
    "CUSTOM_MODEL_NAME = 'my_ssd_mobnet' \n",
    "PRETRAINED_MODEL_NAME = 'ssd_mobilenet_v2_fpnlite_320x320_coco17_tpu-8'\n",
    "PRETRAINED_MODEL_URL = 'http://download.tensorflow.org/models/object_detection/tf2/20200711/ssd_mobilenet_v2_fpnlite_320x320_coco17_tpu-8.tar.gz'\n",
    "TF_RECORD_SCRIPT_NAME = 'generate_tfrecord.py'\n",
    "LABEL_MAP_NAME = 'label_map.pbtxt'"
   ]
  },
  {
   "cell_type": "code",
   "execution_count": 3,
   "metadata": {
    "id": "hbPhYVy_pfDB"
   },
   "outputs": [],
   "source": [
    "paths = {\n",
    "    'WORKSPACE_PATH': os.path.join('Tensorflow', 'workspace'),\n",
    "    'SCRIPTS_PATH': os.path.join('Tensorflow','scripts'),\n",
    "    'APIMODEL_PATH': os.path.join('Tensorflow','models'),\n",
    "    'ANNOTATION_PATH': os.path.join('Tensorflow', 'workspace','annotations'),\n",
    "    'IMAGE_PATH': os.path.join('Tensorflow', 'workspace','images'),\n",
    "    'MODEL_PATH': os.path.join('Tensorflow', 'workspace','models'),\n",
    "    'PRETRAINED_MODEL_PATH': os.path.join('Tensorflow', 'workspace','pre-trained-models'),\n",
    "    'CHECKPOINT_PATH': os.path.join('Tensorflow', 'workspace','models',CUSTOM_MODEL_NAME), \n",
    "    'OUTPUT_PATH': os.path.join('Tensorflow', 'workspace','models',CUSTOM_MODEL_NAME, 'export'), \n",
    "    'TFJS_PATH':os.path.join('Tensorflow', 'workspace','models',CUSTOM_MODEL_NAME, 'tfjsexport'), \n",
    "    'TFLITE_PATH':os.path.join('Tensorflow', 'workspace','models',CUSTOM_MODEL_NAME, 'tfliteexport'), \n",
    "    'PROTOC_PATH':os.path.join('Tensorflow','protoc')\n",
    " }"
   ]
  },
  {
   "cell_type": "code",
   "execution_count": 4,
   "metadata": {
    "id": "LwhWZMI0pfDC"
   },
   "outputs": [],
   "source": [
    "files = {\n",
    "    'PIPELINE_CONFIG':os.path.join('Tensorflow', 'workspace','models', CUSTOM_MODEL_NAME, 'pipeline.config'),\n",
    "    'TF_RECORD_SCRIPT': os.path.join(paths['SCRIPTS_PATH'], TF_RECORD_SCRIPT_NAME), \n",
    "    'LABELMAP': os.path.join(paths['ANNOTATION_PATH'], LABEL_MAP_NAME)\n",
    "}"
   ]
  },
  {
   "cell_type": "code",
   "execution_count": 5,
   "metadata": {
    "id": "HR-TfDGrpfDC"
   },
   "outputs": [],
   "source": [
    "for path in paths.values():\n",
    "    if not os.path.exists(path):\n",
    "        if os.name == 'posix':\n",
    "            !mkdir -p {path}\n",
    "        if os.name == 'nt':\n",
    "            !mkdir {path}"
   ]
  },
  {
   "cell_type": "markdown",
   "metadata": {
    "id": "OLU-rs_ipfDE"
   },
   "source": [
    "# 1. Download TF Models Pretrained Models from Tensorflow Model Zoo and Install TFOD"
   ]
  },
  {
   "cell_type": "code",
   "execution_count": 6,
   "metadata": {},
   "outputs": [],
   "source": [
    "# https://www.tensorflow.org/install/source_windows"
   ]
  },
  {
   "cell_type": "code",
   "execution_count": 7,
   "metadata": {
    "id": "K-Cmz2edpfDE",
    "scrolled": true
   },
   "outputs": [],
   "source": [
    "if os.name=='nt':\n",
    "    !pip install wget\n",
    "    import wget"
   ]
  },
  {
   "cell_type": "code",
   "execution_count": 8,
   "metadata": {
    "id": "iA1DIq5OpfDE"
   },
   "outputs": [],
   "source": [
    "#CLONINg models from tensorflow model zoo garden\n",
    "if not os.path.exists(os.path.join(paths['APIMODEL_PATH'], 'research', 'object_detection')):\n",
    "    !git clone https://github.com/tensorflow/models {paths['APIMODEL_PATH']}"
   ]
  },
  {
   "cell_type": "code",
   "execution_count": 9,
   "metadata": {
    "id": "rJjMHbnDs3Tv"
   },
   "outputs": [
    {
     "name": "stdout",
     "output_type": "stream",
     "text": [
      "Defaulting to user installation because normal site-packages is not writeable\n",
      "Processing /home/Roleo/projects/hub/SLT/SL/Tensorflow/models/research\n",
      "  Preparing metadata (setup.py) ... \u001b[?25ldone\n",
      "\u001b[?25hRequirement already satisfied: avro-python3 in /home/Roleo/.local/lib/python3.8/site-packages (from object-detection==0.1) (1.10.2)\n",
      "Requirement already satisfied: apache-beam in /home/Roleo/.local/lib/python3.8/site-packages (from object-detection==0.1) (2.40.0)\n",
      "Requirement already satisfied: pillow in /usr/lib64/python3.8/site-packages (from object-detection==0.1) (7.0.0)\n",
      "Requirement already satisfied: lxml in /usr/lib64/python3.8/site-packages (from object-detection==0.1) (4.4.1)\n",
      "Requirement already satisfied: matplotlib in /home/Roleo/.local/lib/python3.8/site-packages (from object-detection==0.1) (3.3.1)\n",
      "Requirement already satisfied: Cython in /home/Roleo/.local/lib/python3.8/site-packages (from object-detection==0.1) (0.29.30)\n",
      "Requirement already satisfied: contextlib2 in /home/Roleo/.local/lib/python3.8/site-packages (from object-detection==0.1) (21.6.0)\n",
      "Requirement already satisfied: tf-slim in /home/Roleo/.local/lib/python3.8/site-packages (from object-detection==0.1) (1.1.0)\n",
      "Requirement already satisfied: six in /usr/lib/python3.8/site-packages (from object-detection==0.1) (1.14.0)\n",
      "Requirement already satisfied: pycocotools in /home/Roleo/.local/lib/python3.8/site-packages (from object-detection==0.1) (2.0.4)\n",
      "Requirement already satisfied: lvis in /home/Roleo/.local/lib/python3.8/site-packages (from object-detection==0.1) (0.5.3)\n",
      "Requirement already satisfied: scipy in /home/Roleo/.local/lib/python3.8/site-packages (from object-detection==0.1) (1.7.0)\n",
      "Requirement already satisfied: pandas in /home/Roleo/.local/lib/python3.8/site-packages (from object-detection==0.1) (1.4.3)\n",
      "Requirement already satisfied: tf-models-official>=2.5.1 in /home/Roleo/.local/lib/python3.8/site-packages (from object-detection==0.1) (2.9.2)\n",
      "Requirement already satisfied: tensorflow_io in /home/Roleo/.local/lib/python3.8/site-packages (from object-detection==0.1) (0.26.0)\n",
      "Requirement already satisfied: keras in /home/Roleo/.local/lib/python3.8/site-packages (from object-detection==0.1) (2.9.0)\n",
      "Requirement already satisfied: pyparsing==2.4.7 in /home/Roleo/.local/lib/python3.8/site-packages (from object-detection==0.1) (2.4.7)\n",
      "Requirement already satisfied: tensorflow-model-optimization>=0.4.1 in /home/Roleo/.local/lib/python3.8/site-packages (from tf-models-official>=2.5.1->object-detection==0.1) (0.7.2)\n",
      "Requirement already satisfied: sacrebleu in /home/Roleo/.local/lib/python3.8/site-packages (from tf-models-official>=2.5.1->object-detection==0.1) (2.1.0)\n",
      "Requirement already satisfied: psutil>=5.4.3 in /usr/lib64/python3.8/site-packages (from tf-models-official>=2.5.1->object-detection==0.1) (5.6.7)\n",
      "Requirement already satisfied: sentencepiece in /home/Roleo/.local/lib/python3.8/site-packages (from tf-models-official>=2.5.1->object-detection==0.1) (0.1.96)\n",
      "Requirement already satisfied: py-cpuinfo>=3.3.0 in /home/Roleo/.local/lib/python3.8/site-packages (from tf-models-official>=2.5.1->object-detection==0.1) (8.0.0)\n",
      "Requirement already satisfied: tensorflow-hub>=0.6.0 in /home/Roleo/.local/lib/python3.8/site-packages (from tf-models-official>=2.5.1->object-detection==0.1) (0.12.0)\n",
      "Requirement already satisfied: oauth2client in /home/Roleo/.local/lib/python3.8/site-packages (from tf-models-official>=2.5.1->object-detection==0.1) (4.1.3)\n",
      "Requirement already satisfied: opencv-python-headless in /home/Roleo/.local/lib/python3.8/site-packages (from tf-models-official>=2.5.1->object-detection==0.1) (4.6.0.66)\n",
      "Requirement already satisfied: pyyaml<6.0,>=5.1 in /usr/lib64/python3.8/site-packages (from tf-models-official>=2.5.1->object-detection==0.1) (5.4.1)\n",
      "Requirement already satisfied: tensorflow-addons in /home/Roleo/.local/lib/python3.8/site-packages (from tf-models-official>=2.5.1->object-detection==0.1) (0.17.1)\n",
      "Requirement already satisfied: tensorflow-datasets in /home/Roleo/.local/lib/python3.8/site-packages (from tf-models-official>=2.5.1->object-detection==0.1) (4.6.0)\n",
      "Requirement already satisfied: seqeval in /home/Roleo/.local/lib/python3.8/site-packages (from tf-models-official>=2.5.1->object-detection==0.1) (1.2.2)\n",
      "Requirement already satisfied: tensorflow~=2.9.0 in /home/Roleo/.local/lib/python3.8/site-packages (from tf-models-official>=2.5.1->object-detection==0.1) (2.9.0)\n",
      "Requirement already satisfied: kaggle>=1.3.9 in /home/Roleo/.local/lib/python3.8/site-packages (from tf-models-official>=2.5.1->object-detection==0.1) (1.5.12)\n",
      "Requirement already satisfied: google-api-python-client>=1.6.7 in /home/Roleo/.local/lib/python3.8/site-packages (from tf-models-official>=2.5.1->object-detection==0.1) (2.52.0)\n",
      "Requirement already satisfied: tensorflow-text~=2.9.0 in /home/Roleo/.local/lib/python3.8/site-packages (from tf-models-official>=2.5.1->object-detection==0.1) (2.9.0)\n",
      "Requirement already satisfied: numpy>=1.20 in /home/Roleo/.local/lib/python3.8/site-packages (from tf-models-official>=2.5.1->object-detection==0.1) (1.22.4)\n",
      "Requirement already satisfied: gin-config in /home/Roleo/.local/lib/python3.8/site-packages (from tf-models-official>=2.5.1->object-detection==0.1) (0.5.0)\n",
      "Requirement already satisfied: python-dateutil>=2.8.1 in /home/Roleo/.local/lib/python3.8/site-packages (from pandas->object-detection==0.1) (2.8.2)\n",
      "Requirement already satisfied: pytz>=2020.1 in /usr/lib/python3.8/site-packages (from pandas->object-detection==0.1) (2020.5)\n",
      "Requirement already satisfied: absl-py>=0.2.2 in /home/Roleo/.local/lib/python3.8/site-packages (from tf-slim->object-detection==0.1) (1.1.0)\n",
      "Requirement already satisfied: fastavro<2,>=0.23.6 in /home/Roleo/.local/lib/python3.8/site-packages (from apache-beam->object-detection==0.1) (1.5.2)\n",
      "Requirement already satisfied: pydot<2,>=1.2.0 in /home/Roleo/.local/lib/python3.8/site-packages (from apache-beam->object-detection==0.1) (1.4.2)\n",
      "Requirement already satisfied: crcmod<2.0,>=1.7 in /home/Roleo/.local/lib/python3.8/site-packages (from apache-beam->object-detection==0.1) (1.7)\n",
      "Requirement already satisfied: httplib2<0.21.0,>=0.8 in /home/Roleo/.local/lib/python3.8/site-packages (from apache-beam->object-detection==0.1) (0.20.4)\n",
      "Requirement already satisfied: dill<0.3.2,>=0.3.1.1 in /home/Roleo/.local/lib/python3.8/site-packages (from apache-beam->object-detection==0.1) (0.3.1.1)\n",
      "Requirement already satisfied: pymongo<4.0.0,>=3.8.0 in /home/Roleo/.local/lib/python3.8/site-packages (from apache-beam->object-detection==0.1) (3.12.3)\n",
      "Requirement already satisfied: protobuf<4,>=3.12.2 in /home/Roleo/.local/lib/python3.8/site-packages (from apache-beam->object-detection==0.1) (3.19.4)\n",
      "Requirement already satisfied: orjson<4.0 in /home/Roleo/.local/lib/python3.8/site-packages (from apache-beam->object-detection==0.1) (3.7.6)\n",
      "Requirement already satisfied: cloudpickle<3,>=2.1.0 in /home/Roleo/.local/lib/python3.8/site-packages (from apache-beam->object-detection==0.1) (2.1.0)\n",
      "Requirement already satisfied: proto-plus<2,>=1.7.1 in /home/Roleo/.local/lib/python3.8/site-packages (from apache-beam->object-detection==0.1) (1.20.6)\n",
      "Requirement already satisfied: grpcio<2,>=1.33.1 in /home/Roleo/.local/lib/python3.8/site-packages (from apache-beam->object-detection==0.1) (1.47.0)\n",
      "Requirement already satisfied: typing-extensions>=3.7.0 in /home/Roleo/.local/lib/python3.8/site-packages (from apache-beam->object-detection==0.1) (4.3.0)\n",
      "Requirement already satisfied: requests<3.0.0,>=2.24.0 in /home/Roleo/.local/lib/python3.8/site-packages (from apache-beam->object-detection==0.1) (2.28.1)\n",
      "Requirement already satisfied: hdfs<3.0.0,>=2.1.0 in /home/Roleo/.local/lib/python3.8/site-packages (from apache-beam->object-detection==0.1) (2.7.0)\n",
      "Requirement already satisfied: pyarrow<8.0.0,>=0.15.1 in /home/Roleo/.local/lib/python3.8/site-packages (from apache-beam->object-detection==0.1) (7.0.0)\n",
      "Requirement already satisfied: opencv-python>=4.1.0.25 in /home/Roleo/.local/lib/python3.8/site-packages (from lvis->object-detection==0.1) (4.6.0.66)\n",
      "Requirement already satisfied: kiwisolver>=1.1.0 in /home/Roleo/.local/lib/python3.8/site-packages (from lvis->object-detection==0.1) (1.3.1)\n",
      "Requirement already satisfied: cycler>=0.10.0 in /home/Roleo/.local/lib/python3.8/site-packages (from lvis->object-detection==0.1) (0.10.0)\n"
     ]
    },
    {
     "name": "stdout",
     "output_type": "stream",
     "text": [
      "Requirement already satisfied: certifi>=2020.06.20 in /home/Roleo/.local/lib/python3.8/site-packages (from matplotlib->object-detection==0.1) (2022.6.15)\n",
      "Requirement already satisfied: tensorflow-io-gcs-filesystem==0.26.0 in /home/Roleo/.local/lib/python3.8/site-packages (from tensorflow_io->object-detection==0.1) (0.26.0)\n",
      "Requirement already satisfied: google-api-core!=2.0.*,!=2.1.*,!=2.2.*,!=2.3.0,<3.0.0dev,>=1.31.5 in /home/Roleo/.local/lib/python3.8/site-packages (from google-api-python-client>=1.6.7->tf-models-official>=2.5.1->object-detection==0.1) (2.8.2)\n",
      "Requirement already satisfied: google-auth<3.0.0dev,>=1.19.0 in /home/Roleo/.local/lib/python3.8/site-packages (from google-api-python-client>=1.6.7->tf-models-official>=2.5.1->object-detection==0.1) (2.9.0)\n",
      "Requirement already satisfied: google-auth-httplib2>=0.1.0 in /home/Roleo/.local/lib/python3.8/site-packages (from google-api-python-client>=1.6.7->tf-models-official>=2.5.1->object-detection==0.1) (0.1.0)\n",
      "Requirement already satisfied: uritemplate<5,>=3.0.1 in /home/Roleo/.local/lib/python3.8/site-packages (from google-api-python-client>=1.6.7->tf-models-official>=2.5.1->object-detection==0.1) (4.1.1)\n",
      "Requirement already satisfied: docopt in /usr/local/lib/python3.8/site-packages (from hdfs<3.0.0,>=2.1.0->apache-beam->object-detection==0.1) (0.6.2)\n",
      "Requirement already satisfied: tqdm in /usr/local/lib/python3.8/site-packages/tqdm-4.62.2-py3.8.egg (from kaggle>=1.3.9->tf-models-official>=2.5.1->object-detection==0.1) (4.62.2)\n",
      "Requirement already satisfied: python-slugify in /home/Roleo/.local/lib/python3.8/site-packages (from kaggle>=1.3.9->tf-models-official>=2.5.1->object-detection==0.1) (6.1.2)\n",
      "Requirement already satisfied: urllib3 in /usr/lib/python3.8/site-packages (from kaggle>=1.3.9->tf-models-official>=2.5.1->object-detection==0.1) (1.25.7)\n",
      "Requirement already satisfied: idna<4,>=2.5 in /usr/lib/python3.8/site-packages (from requests<3.0.0,>=2.24.0->apache-beam->object-detection==0.1) (2.8)\n",
      "Requirement already satisfied: charset-normalizer<3,>=2 in /home/Roleo/.local/lib/python3.8/site-packages (from requests<3.0.0,>=2.24.0->apache-beam->object-detection==0.1) (2.1.0)\n",
      "Requirement already satisfied: tensorboard<2.10,>=2.9 in /home/Roleo/.local/lib/python3.8/site-packages (from tensorflow~=2.9.0->tf-models-official>=2.5.1->object-detection==0.1) (2.9.1)\n",
      "Requirement already satisfied: wrapt>=1.11.0 in /home/Roleo/.local/lib/python3.8/site-packages (from tensorflow~=2.9.0->tf-models-official>=2.5.1->object-detection==0.1) (1.14.1)\n",
      "Requirement already satisfied: opt-einsum>=2.3.2 in /home/Roleo/.local/lib/python3.8/site-packages (from tensorflow~=2.9.0->tf-models-official>=2.5.1->object-detection==0.1) (3.3.0)\n",
      "Requirement already satisfied: h5py>=2.9.0 in /home/Roleo/.local/lib/python3.8/site-packages (from tensorflow~=2.9.0->tf-models-official>=2.5.1->object-detection==0.1) (3.7.0)\n",
      "Requirement already satisfied: tensorflow-estimator<2.10.0,>=2.9.0rc0 in /home/Roleo/.local/lib/python3.8/site-packages (from tensorflow~=2.9.0->tf-models-official>=2.5.1->object-detection==0.1) (2.9.0)\n",
      "Requirement already satisfied: astunparse>=1.6.0 in /home/Roleo/.local/lib/python3.8/site-packages (from tensorflow~=2.9.0->tf-models-official>=2.5.1->object-detection==0.1) (1.6.3)\n",
      "Requirement already satisfied: gast<=0.4.0,>=0.2.1 in /home/Roleo/.local/lib/python3.8/site-packages (from tensorflow~=2.9.0->tf-models-official>=2.5.1->object-detection==0.1) (0.4.0)\n",
      "Requirement already satisfied: flatbuffers<2,>=1.12 in /home/Roleo/.local/lib/python3.8/site-packages (from tensorflow~=2.9.0->tf-models-official>=2.5.1->object-detection==0.1) (1.12)\n",
      "Requirement already satisfied: termcolor>=1.1.0 in /home/Roleo/.local/lib/python3.8/site-packages (from tensorflow~=2.9.0->tf-models-official>=2.5.1->object-detection==0.1) (1.1.0)\n",
      "Requirement already satisfied: setuptools in /usr/lib/python3.8/site-packages (from tensorflow~=2.9.0->tf-models-official>=2.5.1->object-detection==0.1) (41.6.0)\n",
      "Requirement already satisfied: keras-preprocessing>=1.1.1 in /home/Roleo/.local/lib/python3.8/site-packages (from tensorflow~=2.9.0->tf-models-official>=2.5.1->object-detection==0.1) (1.1.2)\n",
      "Requirement already satisfied: packaging in /usr/local/lib/python3.8/site-packages (from tensorflow~=2.9.0->tf-models-official>=2.5.1->object-detection==0.1) (21.3)\n",
      "Requirement already satisfied: libclang>=13.0.0 in /home/Roleo/.local/lib/python3.8/site-packages (from tensorflow~=2.9.0->tf-models-official>=2.5.1->object-detection==0.1) (14.0.1)\n",
      "Requirement already satisfied: google-pasta>=0.1.1 in /home/Roleo/.local/lib/python3.8/site-packages (from tensorflow~=2.9.0->tf-models-official>=2.5.1->object-detection==0.1) (0.2.0)\n",
      "Requirement already satisfied: dm-tree~=0.1.1 in /home/Roleo/.local/lib/python3.8/site-packages (from tensorflow-model-optimization>=0.4.1->tf-models-official>=2.5.1->object-detection==0.1) (0.1.7)\n",
      "Requirement already satisfied: pyasn1>=0.1.7 in /usr/lib/python3.8/site-packages (from oauth2client->tf-models-official>=2.5.1->object-detection==0.1) (0.4.8)\n",
      "Requirement already satisfied: pyasn1-modules>=0.0.5 in /home/Roleo/.local/lib/python3.8/site-packages (from oauth2client->tf-models-official>=2.5.1->object-detection==0.1) (0.2.8)\n",
      "Requirement already satisfied: rsa>=3.1.4 in /home/Roleo/.local/lib/python3.8/site-packages (from oauth2client->tf-models-official>=2.5.1->object-detection==0.1) (4.8)\n",
      "Requirement already satisfied: portalocker in /home/Roleo/.local/lib/python3.8/site-packages (from sacrebleu->tf-models-official>=2.5.1->object-detection==0.1) (2.4.0)\n",
      "Requirement already satisfied: regex in /home/Roleo/.local/lib/python3.8/site-packages (from sacrebleu->tf-models-official>=2.5.1->object-detection==0.1) (2022.6.2)\n",
      "Requirement already satisfied: tabulate>=0.8.9 in /home/Roleo/.local/lib/python3.8/site-packages (from sacrebleu->tf-models-official>=2.5.1->object-detection==0.1) (0.8.10)\n",
      "Requirement already satisfied: colorama in /usr/local/lib/python3.8/site-packages/colorama-0.4.4-py3.8.egg (from sacrebleu->tf-models-official>=2.5.1->object-detection==0.1) (0.4.4)\n",
      "Requirement already satisfied: scikit-learn>=0.21.3 in /home/Roleo/.local/lib/python3.8/site-packages (from seqeval->tf-models-official>=2.5.1->object-detection==0.1) (0.24.2)\n",
      "Requirement already satisfied: typeguard>=2.7 in /home/Roleo/.local/lib/python3.8/site-packages (from tensorflow-addons->tf-models-official>=2.5.1->object-detection==0.1) (2.13.3)\n",
      "Requirement already satisfied: etils[epath] in /home/Roleo/.local/lib/python3.8/site-packages (from tensorflow-datasets->tf-models-official>=2.5.1->object-detection==0.1) (0.6.0)\n",
      "Requirement already satisfied: importlib-resources in /home/Roleo/.local/lib/python3.8/site-packages (from tensorflow-datasets->tf-models-official>=2.5.1->object-detection==0.1) (5.8.0)\n",
      "Requirement already satisfied: toml in /home/Roleo/.local/lib/python3.8/site-packages (from tensorflow-datasets->tf-models-official>=2.5.1->object-detection==0.1) (0.10.2)\n",
      "Requirement already satisfied: tensorflow-metadata in /home/Roleo/.local/lib/python3.8/site-packages (from tensorflow-datasets->tf-models-official>=2.5.1->object-detection==0.1) (1.9.0)\n",
      "Requirement already satisfied: promise in /home/Roleo/.local/lib/python3.8/site-packages (from tensorflow-datasets->tf-models-official>=2.5.1->object-detection==0.1) (2.3)\n",
      "Requirement already satisfied: wheel<1.0,>=0.23.0 in /home/Roleo/.local/lib/python3.8/site-packages (from astunparse>=1.6.0->tensorflow~=2.9.0->tf-models-official>=2.5.1->object-detection==0.1) (0.37.1)\n",
      "Requirement already satisfied: googleapis-common-protos<2.0dev,>=1.56.2 in /home/Roleo/.local/lib/python3.8/site-packages (from google-api-core!=2.0.*,!=2.1.*,!=2.2.*,!=2.3.0,<3.0.0dev,>=1.31.5->google-api-python-client>=1.6.7->tf-models-official>=2.5.1->object-detection==0.1) (1.56.3)\n",
      "Requirement already satisfied: cachetools<6.0,>=2.0.0 in /home/Roleo/.local/lib/python3.8/site-packages (from google-auth<3.0.0dev,>=1.19.0->google-api-python-client>=1.6.7->tf-models-official>=2.5.1->object-detection==0.1) (5.2.0)\n",
      "Requirement already satisfied: joblib>=0.11 in /home/Roleo/.local/lib/python3.8/site-packages (from scikit-learn>=0.21.3->seqeval->tf-models-official>=2.5.1->object-detection==0.1) (1.0.1)\n",
      "Requirement already satisfied: threadpoolctl>=2.0.0 in /home/Roleo/.local/lib/python3.8/site-packages (from scikit-learn>=0.21.3->seqeval->tf-models-official>=2.5.1->object-detection==0.1) (2.2.0)\n"
     ]
    },
    {
     "name": "stdout",
     "output_type": "stream",
     "text": [
      "Requirement already satisfied: tensorboard-data-server<0.7.0,>=0.6.0 in /home/Roleo/.local/lib/python3.8/site-packages (from tensorboard<2.10,>=2.9->tensorflow~=2.9.0->tf-models-official>=2.5.1->object-detection==0.1) (0.6.1)\n",
      "Requirement already satisfied: tensorboard-plugin-wit>=1.6.0 in /home/Roleo/.local/lib/python3.8/site-packages (from tensorboard<2.10,>=2.9->tensorflow~=2.9.0->tf-models-official>=2.5.1->object-detection==0.1) (1.8.1)\n",
      "Requirement already satisfied: google-auth-oauthlib<0.5,>=0.4.1 in /home/Roleo/.local/lib/python3.8/site-packages (from tensorboard<2.10,>=2.9->tensorflow~=2.9.0->tf-models-official>=2.5.1->object-detection==0.1) (0.4.6)\n",
      "Requirement already satisfied: markdown>=2.6.8 in /home/Roleo/.local/lib/python3.8/site-packages (from tensorboard<2.10,>=2.9->tensorflow~=2.9.0->tf-models-official>=2.5.1->object-detection==0.1) (3.3.7)\n",
      "Requirement already satisfied: werkzeug>=1.0.1 in /home/Roleo/.local/lib/python3.8/site-packages (from tensorboard<2.10,>=2.9->tensorflow~=2.9.0->tf-models-official>=2.5.1->object-detection==0.1) (2.1.2)\n",
      "Requirement already satisfied: zipp in /home/Roleo/.local/lib/python3.8/site-packages (from etils[epath]->tensorflow-datasets->tf-models-official>=2.5.1->object-detection==0.1) (3.8.0)\n",
      "Requirement already satisfied: text-unidecode>=1.3 in /home/Roleo/.local/lib/python3.8/site-packages (from python-slugify->kaggle>=1.3.9->tf-models-official>=2.5.1->object-detection==0.1) (1.3)\n",
      "Requirement already satisfied: requests-oauthlib>=0.7.0 in /home/Roleo/.local/lib/python3.8/site-packages (from google-auth-oauthlib<0.5,>=0.4.1->tensorboard<2.10,>=2.9->tensorflow~=2.9.0->tf-models-official>=2.5.1->object-detection==0.1) (1.3.1)\n",
      "Requirement already satisfied: importlib-metadata>=4.4 in /home/Roleo/.local/lib/python3.8/site-packages (from markdown>=2.6.8->tensorboard<2.10,>=2.9->tensorflow~=2.9.0->tf-models-official>=2.5.1->object-detection==0.1) (4.12.0)\n",
      "Requirement already satisfied: oauthlib>=3.0.0 in /home/Roleo/.local/lib/python3.8/site-packages (from requests-oauthlib>=0.7.0->google-auth-oauthlib<0.5,>=0.4.1->tensorboard<2.10,>=2.9->tensorflow~=2.9.0->tf-models-official>=2.5.1->object-detection==0.1) (3.2.0)\n",
      "Building wheels for collected packages: object-detection\n",
      "  Building wheel for object-detection (setup.py) ... \u001b[?25ldone\n",
      "\u001b[?25h  Created wheel for object-detection: filename=object_detection-0.1-py3-none-any.whl size=1693858 sha256=b44ff081d2996074dfad55d7dfb8b7d7fbce7d54036275c371aad299abb40f25\n",
      "  Stored in directory: /tmp/pip-ephem-wheel-cache-0wn10huf/wheels/21/e1/f0/36dc4467d82182df5588ab3b0a05436ec53c1e65569e8289dd\n",
      "Successfully built object-detection\n",
      "Installing collected packages: object-detection\n",
      "Successfully installed object-detection-0.1\n"
     ]
    }
   ],
   "source": [
    "# Install Tensorflow Object Detection \n",
    "if os.name=='posix':  \n",
    "    !sudo dnf install protobuf-compiler\n",
    "    !cd Tensorflow/models/research && protoc object_detection/protos/*.proto --python_out=. && cp object_detection/packages/tf2/setup.py . && python -m pip install . \n",
    "    \n",
    "if os.name=='nt':\n",
    "    url=\"https://github.com/protocolbuffers/protobuf/releases/download/v3.15.6/protoc-3.15.6-win64.zip\"\n",
    "    wget.download(url)\n",
    "    !move protoc-3.15.6-win64.zip {paths['PROTOC_PATH']}\n",
    "    !cd {paths['PROTOC_PATH']} && tar -xf protoc-3.15.6-win64.zip\n",
    "    os.environ['PATH'] += os.pathsep + os.path.abspath(os.path.join(paths['PROTOC_PATH'], 'bin'))   \n",
    "    !cd Tensorflow/models/research && protoc object_detection/protos/*.proto --python_out=. && copy object_detection\\\\packages\\\\tf2\\\\setup.py setup.py && python setup.py build && python setup.py install\n",
    "    !cd Tensorflow/models/research/slim && pip install -e . "
   ]
  },
  {
   "cell_type": "code",
   "execution_count": 10,
   "metadata": {
    "scrolled": true
   },
   "outputs": [
    {
     "name": "stdout",
     "output_type": "stream",
     "text": [
      "2022-07-06 18:40:46.359242: W tensorflow/stream_executor/platform/default/dso_loader.cc:64] Could not load dynamic library 'libcudart.so.11.0'; dlerror: libcudart.so.11.0: cannot open shared object file: No such file or directory\n",
      "2022-07-06 18:40:46.359280: I tensorflow/stream_executor/cuda/cudart_stub.cc:29] Ignore above cudart dlerror if you do not have a GPU set up on your machine.\n",
      "2022-07-06 18:40:51.645988: W tensorflow/stream_executor/platform/default/dso_loader.cc:64] Could not load dynamic library 'libcuda.so.1'; dlerror: libcuda.so.1: cannot open shared object file: No such file or directory\n",
      "2022-07-06 18:40:51.646018: W tensorflow/stream_executor/cuda/cuda_driver.cc:269] failed call to cuInit: UNKNOWN ERROR (303)\n",
      "2022-07-06 18:40:51.646055: I tensorflow/stream_executor/cuda/cuda_diagnostics.cc:156] kernel driver does not appear to be running on this host (localhost.localdomain): /proc/driver/nvidia/version does not exist\n",
      "Running tests under Python 3.8.10: /usr/bin/python\n",
      "[ RUN      ] ModelBuilderTF2Test.test_create_center_net_deepmac\n",
      "2022-07-06 18:40:51.650623: I tensorflow/core/platform/cpu_feature_guard.cc:193] This TensorFlow binary is optimized with oneAPI Deep Neural Network Library (oneDNN) to use the following CPU instructions in performance-critical operations:  AVX2 FMA\n",
      "To enable them in other operations, rebuild TensorFlow with the appropriate compiler flags.\n",
      "/home/Roleo/.local/lib/python3.8/site-packages/object_detection/builders/model_builder.py:1102: DeprecationWarning: The 'warn' function is deprecated, use 'warning' instead\n",
      "  logging.warn(('Building experimental DeepMAC meta-arch.'\n",
      "W0706 18:40:51.976483 140285501179712 model_builder.py:1102] Building experimental DeepMAC meta-arch. Some features may be omitted.\n",
      "INFO:tensorflow:time(__main__.ModelBuilderTF2Test.test_create_center_net_deepmac): 0.63s\n",
      "I0706 18:40:52.281311 140285501179712 test_util.py:2458] time(__main__.ModelBuilderTF2Test.test_create_center_net_deepmac): 0.63s\n",
      "[       OK ] ModelBuilderTF2Test.test_create_center_net_deepmac\n",
      "[ RUN      ] ModelBuilderTF2Test.test_create_center_net_model0 (customize_head_params=True)\n",
      "INFO:tensorflow:time(__main__.ModelBuilderTF2Test.test_create_center_net_model0 (customize_head_params=True)): 0.68s\n",
      "I0706 18:40:52.965612 140285501179712 test_util.py:2458] time(__main__.ModelBuilderTF2Test.test_create_center_net_model0 (customize_head_params=True)): 0.68s\n",
      "[       OK ] ModelBuilderTF2Test.test_create_center_net_model0 (customize_head_params=True)\n",
      "[ RUN      ] ModelBuilderTF2Test.test_create_center_net_model1 (customize_head_params=False)\n",
      "INFO:tensorflow:time(__main__.ModelBuilderTF2Test.test_create_center_net_model1 (customize_head_params=False)): 0.33s\n",
      "I0706 18:40:53.292681 140285501179712 test_util.py:2458] time(__main__.ModelBuilderTF2Test.test_create_center_net_model1 (customize_head_params=False)): 0.33s\n",
      "[       OK ] ModelBuilderTF2Test.test_create_center_net_model1 (customize_head_params=False)\n",
      "[ RUN      ] ModelBuilderTF2Test.test_create_center_net_model_from_keypoints\n",
      "INFO:tensorflow:time(__main__.ModelBuilderTF2Test.test_create_center_net_model_from_keypoints): 0.45s\n",
      "I0706 18:40:53.738992 140285501179712 test_util.py:2458] time(__main__.ModelBuilderTF2Test.test_create_center_net_model_from_keypoints): 0.45s\n",
      "[       OK ] ModelBuilderTF2Test.test_create_center_net_model_from_keypoints\n",
      "[ RUN      ] ModelBuilderTF2Test.test_create_center_net_model_mobilenet\n",
      "INFO:tensorflow:time(__main__.ModelBuilderTF2Test.test_create_center_net_model_mobilenet): 1.96s\n",
      "I0706 18:40:55.695034 140285501179712 test_util.py:2458] time(__main__.ModelBuilderTF2Test.test_create_center_net_model_mobilenet): 1.96s\n",
      "[       OK ] ModelBuilderTF2Test.test_create_center_net_model_mobilenet\n",
      "[ RUN      ] ModelBuilderTF2Test.test_create_experimental_model\n",
      "INFO:tensorflow:time(__main__.ModelBuilderTF2Test.test_create_experimental_model): 0.0s\n",
      "I0706 18:40:55.696089 140285501179712 test_util.py:2458] time(__main__.ModelBuilderTF2Test.test_create_experimental_model): 0.0s\n",
      "[       OK ] ModelBuilderTF2Test.test_create_experimental_model\n",
      "[ RUN      ] ModelBuilderTF2Test.test_create_faster_rcnn_from_config_with_crop_feature0 (True)\n",
      "INFO:tensorflow:time(__main__.ModelBuilderTF2Test.test_create_faster_rcnn_from_config_with_crop_feature0 (True)): 0.03s\n",
      "I0706 18:40:55.724869 140285501179712 test_util.py:2458] time(__main__.ModelBuilderTF2Test.test_create_faster_rcnn_from_config_with_crop_feature0 (True)): 0.03s\n",
      "[       OK ] ModelBuilderTF2Test.test_create_faster_rcnn_from_config_with_crop_feature0 (True)\n",
      "[ RUN      ] ModelBuilderTF2Test.test_create_faster_rcnn_from_config_with_crop_feature1 (False)\n",
      "INFO:tensorflow:time(__main__.ModelBuilderTF2Test.test_create_faster_rcnn_from_config_with_crop_feature1 (False)): 0.02s\n",
      "I0706 18:40:55.745929 140285501179712 test_util.py:2458] time(__main__.ModelBuilderTF2Test.test_create_faster_rcnn_from_config_with_crop_feature1 (False)): 0.02s\n",
      "[       OK ] ModelBuilderTF2Test.test_create_faster_rcnn_from_config_with_crop_feature1 (False)\n",
      "[ RUN      ] ModelBuilderTF2Test.test_create_faster_rcnn_model_from_config_with_example_miner\n",
      "INFO:tensorflow:time(__main__.ModelBuilderTF2Test.test_create_faster_rcnn_model_from_config_with_example_miner): 0.02s\n",
      "I0706 18:40:55.769160 140285501179712 test_util.py:2458] time(__main__.ModelBuilderTF2Test.test_create_faster_rcnn_model_from_config_with_example_miner): 0.02s\n",
      "[       OK ] ModelBuilderTF2Test.test_create_faster_rcnn_model_from_config_with_example_miner\n",
      "[ RUN      ] ModelBuilderTF2Test.test_create_faster_rcnn_models_from_config_faster_rcnn_with_matmul\n",
      "INFO:tensorflow:time(__main__.ModelBuilderTF2Test.test_create_faster_rcnn_models_from_config_faster_rcnn_with_matmul): 0.12s\n",
      "I0706 18:40:55.894041 140285501179712 test_util.py:2458] time(__main__.ModelBuilderTF2Test.test_create_faster_rcnn_models_from_config_faster_rcnn_with_matmul): 0.12s\n",
      "[       OK ] ModelBuilderTF2Test.test_create_faster_rcnn_models_from_config_faster_rcnn_with_matmul\n",
      "[ RUN      ] ModelBuilderTF2Test.test_create_faster_rcnn_models_from_config_faster_rcnn_without_matmul\n",
      "INFO:tensorflow:time(__main__.ModelBuilderTF2Test.test_create_faster_rcnn_models_from_config_faster_rcnn_without_matmul): 0.11s\n",
      "I0706 18:40:56.006506 140285501179712 test_util.py:2458] time(__main__.ModelBuilderTF2Test.test_create_faster_rcnn_models_from_config_faster_rcnn_without_matmul): 0.11s\n",
      "[       OK ] ModelBuilderTF2Test.test_create_faster_rcnn_models_from_config_faster_rcnn_without_matmul\n",
      "[ RUN      ] ModelBuilderTF2Test.test_create_faster_rcnn_models_from_config_mask_rcnn_with_matmul\n",
      "INFO:tensorflow:time(__main__.ModelBuilderTF2Test.test_create_faster_rcnn_models_from_config_mask_rcnn_with_matmul): 0.12s\n",
      "I0706 18:40:56.125396 140285501179712 test_util.py:2458] time(__main__.ModelBuilderTF2Test.test_create_faster_rcnn_models_from_config_mask_rcnn_with_matmul): 0.12s\n",
      "[       OK ] ModelBuilderTF2Test.test_create_faster_rcnn_models_from_config_mask_rcnn_with_matmul\n",
      "[ RUN      ] ModelBuilderTF2Test.test_create_faster_rcnn_models_from_config_mask_rcnn_without_matmul\n",
      "INFO:tensorflow:time(__main__.ModelBuilderTF2Test.test_create_faster_rcnn_models_from_config_mask_rcnn_without_matmul): 0.12s\n",
      "I0706 18:40:56.249674 140285501179712 test_util.py:2458] time(__main__.ModelBuilderTF2Test.test_create_faster_rcnn_models_from_config_mask_rcnn_without_matmul): 0.12s\n",
      "[       OK ] ModelBuilderTF2Test.test_create_faster_rcnn_models_from_config_mask_rcnn_without_matmul\n",
      "[ RUN      ] ModelBuilderTF2Test.test_create_rfcn_model_from_config\n",
      "INFO:tensorflow:time(__main__.ModelBuilderTF2Test.test_create_rfcn_model_from_config): 0.12s\n",
      "I0706 18:40:56.375052 140285501179712 test_util.py:2458] time(__main__.ModelBuilderTF2Test.test_create_rfcn_model_from_config): 0.12s\n",
      "[       OK ] ModelBuilderTF2Test.test_create_rfcn_model_from_config\n",
      "[ RUN      ] ModelBuilderTF2Test.test_create_ssd_fpn_model_from_config\n",
      "INFO:tensorflow:time(__main__.ModelBuilderTF2Test.test_create_ssd_fpn_model_from_config): 0.04s\n",
      "I0706 18:40:56.415507 140285501179712 test_util.py:2458] time(__main__.ModelBuilderTF2Test.test_create_ssd_fpn_model_from_config): 0.04s\n",
      "[       OK ] ModelBuilderTF2Test.test_create_ssd_fpn_model_from_config\n",
      "[ RUN      ] ModelBuilderTF2Test.test_create_ssd_models_from_config\n"
     ]
    },
    {
     "name": "stdout",
     "output_type": "stream",
     "text": [
      "I0706 18:40:56.642032 140285501179712 ssd_efficientnet_bifpn_feature_extractor.py:145] EfficientDet EfficientNet backbone version: efficientnet-b0\n",
      "I0706 18:40:56.642183 140285501179712 ssd_efficientnet_bifpn_feature_extractor.py:147] EfficientDet BiFPN num filters: 64\n",
      "I0706 18:40:56.642278 140285501179712 ssd_efficientnet_bifpn_feature_extractor.py:148] EfficientDet BiFPN num iterations: 3\n",
      "I0706 18:40:56.645084 140285501179712 efficientnet_model.py:143] round_filter input=32 output=32\n",
      "I0706 18:40:56.666717 140285501179712 efficientnet_model.py:143] round_filter input=32 output=32\n",
      "I0706 18:40:56.666856 140285501179712 efficientnet_model.py:143] round_filter input=16 output=16\n",
      "I0706 18:40:56.771713 140285501179712 efficientnet_model.py:143] round_filter input=16 output=16\n",
      "I0706 18:40:56.772231 140285501179712 efficientnet_model.py:143] round_filter input=24 output=24\n",
      "I0706 18:40:57.085793 140285501179712 efficientnet_model.py:143] round_filter input=24 output=24\n",
      "I0706 18:40:57.085950 140285501179712 efficientnet_model.py:143] round_filter input=40 output=40\n",
      "I0706 18:40:57.280505 140285501179712 efficientnet_model.py:143] round_filter input=40 output=40\n",
      "I0706 18:40:57.280644 140285501179712 efficientnet_model.py:143] round_filter input=80 output=80\n",
      "I0706 18:40:57.511759 140285501179712 efficientnet_model.py:143] round_filter input=80 output=80\n",
      "I0706 18:40:57.511888 140285501179712 efficientnet_model.py:143] round_filter input=112 output=112\n",
      "I0706 18:40:57.765234 140285501179712 efficientnet_model.py:143] round_filter input=112 output=112\n",
      "I0706 18:40:57.765375 140285501179712 efficientnet_model.py:143] round_filter input=192 output=192\n",
      "I0706 18:40:58.153649 140285501179712 efficientnet_model.py:143] round_filter input=192 output=192\n",
      "I0706 18:40:58.153793 140285501179712 efficientnet_model.py:143] round_filter input=320 output=320\n",
      "I0706 18:40:58.235201 140285501179712 efficientnet_model.py:143] round_filter input=1280 output=1280\n",
      "I0706 18:40:58.272083 140285501179712 efficientnet_model.py:453] Building model efficientnet with params ModelConfig(width_coefficient=1.0, depth_coefficient=1.0, resolution=224, dropout_rate=0.2, blocks=(BlockConfig(input_filters=32, output_filters=16, kernel_size=3, num_repeat=1, expand_ratio=1, strides=(1, 1), se_ratio=0.25, id_skip=True, fused_conv=False, conv_type='depthwise'), BlockConfig(input_filters=16, output_filters=24, kernel_size=3, num_repeat=2, expand_ratio=6, strides=(2, 2), se_ratio=0.25, id_skip=True, fused_conv=False, conv_type='depthwise'), BlockConfig(input_filters=24, output_filters=40, kernel_size=5, num_repeat=2, expand_ratio=6, strides=(2, 2), se_ratio=0.25, id_skip=True, fused_conv=False, conv_type='depthwise'), BlockConfig(input_filters=40, output_filters=80, kernel_size=3, num_repeat=3, expand_ratio=6, strides=(2, 2), se_ratio=0.25, id_skip=True, fused_conv=False, conv_type='depthwise'), BlockConfig(input_filters=80, output_filters=112, kernel_size=5, num_repeat=3, expand_ratio=6, strides=(1, 1), se_ratio=0.25, id_skip=True, fused_conv=False, conv_type='depthwise'), BlockConfig(input_filters=112, output_filters=192, kernel_size=5, num_repeat=4, expand_ratio=6, strides=(2, 2), se_ratio=0.25, id_skip=True, fused_conv=False, conv_type='depthwise'), BlockConfig(input_filters=192, output_filters=320, kernel_size=3, num_repeat=1, expand_ratio=6, strides=(1, 1), se_ratio=0.25, id_skip=True, fused_conv=False, conv_type='depthwise')), stem_base_filters=32, top_base_filters=1280, activation='simple_swish', batch_norm='default', bn_momentum=0.99, bn_epsilon=0.001, weight_decay=5e-06, drop_connect_rate=0.2, depth_divisor=8, min_depth=None, use_se=True, input_channels=3, num_classes=1000, model_name='efficientnet', rescale_input=False, data_format='channels_last', dtype='float32')\n",
      "I0706 18:40:58.334902 140285501179712 ssd_efficientnet_bifpn_feature_extractor.py:145] EfficientDet EfficientNet backbone version: efficientnet-b1\n",
      "I0706 18:40:58.335121 140285501179712 ssd_efficientnet_bifpn_feature_extractor.py:147] EfficientDet BiFPN num filters: 88\n",
      "I0706 18:40:58.335230 140285501179712 ssd_efficientnet_bifpn_feature_extractor.py:148] EfficientDet BiFPN num iterations: 4\n",
      "I0706 18:40:58.337489 140285501179712 efficientnet_model.py:143] round_filter input=32 output=32\n",
      "I0706 18:40:58.357315 140285501179712 efficientnet_model.py:143] round_filter input=32 output=32\n",
      "I0706 18:40:58.357455 140285501179712 efficientnet_model.py:143] round_filter input=16 output=16\n",
      "I0706 18:40:58.502848 140285501179712 efficientnet_model.py:143] round_filter input=16 output=16\n",
      "I0706 18:40:58.503000 140285501179712 efficientnet_model.py:143] round_filter input=24 output=24\n",
      "I0706 18:40:58.747205 140285501179712 efficientnet_model.py:143] round_filter input=24 output=24\n",
      "I0706 18:40:58.747332 140285501179712 efficientnet_model.py:143] round_filter input=40 output=40\n",
      "I0706 18:40:59.022269 140285501179712 efficientnet_model.py:143] round_filter input=40 output=40\n",
      "I0706 18:40:59.022470 140285501179712 efficientnet_model.py:143] round_filter input=80 output=80\n",
      "I0706 18:40:59.382157 140285501179712 efficientnet_model.py:143] round_filter input=80 output=80\n",
      "I0706 18:40:59.382286 140285501179712 efficientnet_model.py:143] round_filter input=112 output=112\n",
      "I0706 18:40:59.720465 140285501179712 efficientnet_model.py:143] round_filter input=112 output=112\n",
      "I0706 18:40:59.720588 140285501179712 efficientnet_model.py:143] round_filter input=192 output=192\n",
      "I0706 18:41:00.235462 140285501179712 efficientnet_model.py:143] round_filter input=192 output=192\n",
      "I0706 18:41:00.235617 140285501179712 efficientnet_model.py:143] round_filter input=320 output=320\n",
      "I0706 18:41:00.459876 140285501179712 efficientnet_model.py:143] round_filter input=1280 output=1280\n",
      "I0706 18:41:00.513197 140285501179712 efficientnet_model.py:453] Building model efficientnet with params ModelConfig(width_coefficient=1.0, depth_coefficient=1.1, resolution=240, dropout_rate=0.2, blocks=(BlockConfig(input_filters=32, output_filters=16, kernel_size=3, num_repeat=1, expand_ratio=1, strides=(1, 1), se_ratio=0.25, id_skip=True, fused_conv=False, conv_type='depthwise'), BlockConfig(input_filters=16, output_filters=24, kernel_size=3, num_repeat=2, expand_ratio=6, strides=(2, 2), se_ratio=0.25, id_skip=True, fused_conv=False, conv_type='depthwise'), BlockConfig(input_filters=24, output_filters=40, kernel_size=5, num_repeat=2, expand_ratio=6, strides=(2, 2), se_ratio=0.25, id_skip=True, fused_conv=False, conv_type='depthwise'), BlockConfig(input_filters=40, output_filters=80, kernel_size=3, num_repeat=3, expand_ratio=6, strides=(2, 2), se_ratio=0.25, id_skip=True, fused_conv=False, conv_type='depthwise'), BlockConfig(input_filters=80, output_filters=112, kernel_size=5, num_repeat=3, expand_ratio=6, strides=(1, 1), se_ratio=0.25, id_skip=True, fused_conv=False, conv_type='depthwise'), BlockConfig(input_filters=112, output_filters=192, kernel_size=5, num_repeat=4, expand_ratio=6, strides=(2, 2), se_ratio=0.25, id_skip=True, fused_conv=False, conv_type='depthwise'), BlockConfig(input_filters=192, output_filters=320, kernel_size=3, num_repeat=1, expand_ratio=6, strides=(1, 1), se_ratio=0.25, id_skip=True, fused_conv=False, conv_type='depthwise')), stem_base_filters=32, top_base_filters=1280, activation='simple_swish', batch_norm='default', bn_momentum=0.99, bn_epsilon=0.001, weight_decay=5e-06, drop_connect_rate=0.2, depth_divisor=8, min_depth=None, use_se=True, input_channels=3, num_classes=1000, model_name='efficientnet', rescale_input=False, data_format='channels_last', dtype='float32')\n",
      "I0706 18:41:00.608875 140285501179712 ssd_efficientnet_bifpn_feature_extractor.py:145] EfficientDet EfficientNet backbone version: efficientnet-b2\n",
      "I0706 18:41:00.609049 140285501179712 ssd_efficientnet_bifpn_feature_extractor.py:147] EfficientDet BiFPN num filters: 112\n",
      "I0706 18:41:00.609128 140285501179712 ssd_efficientnet_bifpn_feature_extractor.py:148] EfficientDet BiFPN num iterations: 5\n",
      "I0706 18:41:00.611517 140285501179712 efficientnet_model.py:143] round_filter input=32 output=32\n",
      "I0706 18:41:00.642314 140285501179712 efficientnet_model.py:143] round_filter input=32 output=32\n",
      "I0706 18:41:00.642464 140285501179712 efficientnet_model.py:143] round_filter input=16 output=16\n"
     ]
    },
    {
     "name": "stdout",
     "output_type": "stream",
     "text": [
      "I0706 18:41:00.810606 140285501179712 efficientnet_model.py:143] round_filter input=16 output=16\n",
      "I0706 18:41:00.810761 140285501179712 efficientnet_model.py:143] round_filter input=24 output=24\n",
      "I0706 18:41:01.158871 140285501179712 efficientnet_model.py:143] round_filter input=24 output=24\n",
      "I0706 18:41:01.159043 140285501179712 efficientnet_model.py:143] round_filter input=40 output=48\n",
      "I0706 18:41:01.488983 140285501179712 efficientnet_model.py:143] round_filter input=40 output=48\n",
      "I0706 18:41:01.489131 140285501179712 efficientnet_model.py:143] round_filter input=80 output=88\n",
      "I0706 18:41:01.907551 140285501179712 efficientnet_model.py:143] round_filter input=80 output=88\n",
      "I0706 18:41:01.907690 140285501179712 efficientnet_model.py:143] round_filter input=112 output=120\n",
      "I0706 18:41:02.345598 140285501179712 efficientnet_model.py:143] round_filter input=112 output=120\n",
      "I0706 18:41:02.345747 140285501179712 efficientnet_model.py:143] round_filter input=192 output=208\n",
      "I0706 18:41:03.003956 140285501179712 efficientnet_model.py:143] round_filter input=192 output=208\n",
      "I0706 18:41:03.004109 140285501179712 efficientnet_model.py:143] round_filter input=320 output=352\n",
      "I0706 18:41:03.270073 140285501179712 efficientnet_model.py:143] round_filter input=1280 output=1408\n",
      "I0706 18:41:03.328929 140285501179712 efficientnet_model.py:453] Building model efficientnet with params ModelConfig(width_coefficient=1.1, depth_coefficient=1.2, resolution=260, dropout_rate=0.3, blocks=(BlockConfig(input_filters=32, output_filters=16, kernel_size=3, num_repeat=1, expand_ratio=1, strides=(1, 1), se_ratio=0.25, id_skip=True, fused_conv=False, conv_type='depthwise'), BlockConfig(input_filters=16, output_filters=24, kernel_size=3, num_repeat=2, expand_ratio=6, strides=(2, 2), se_ratio=0.25, id_skip=True, fused_conv=False, conv_type='depthwise'), BlockConfig(input_filters=24, output_filters=40, kernel_size=5, num_repeat=2, expand_ratio=6, strides=(2, 2), se_ratio=0.25, id_skip=True, fused_conv=False, conv_type='depthwise'), BlockConfig(input_filters=40, output_filters=80, kernel_size=3, num_repeat=3, expand_ratio=6, strides=(2, 2), se_ratio=0.25, id_skip=True, fused_conv=False, conv_type='depthwise'), BlockConfig(input_filters=80, output_filters=112, kernel_size=5, num_repeat=3, expand_ratio=6, strides=(1, 1), se_ratio=0.25, id_skip=True, fused_conv=False, conv_type='depthwise'), BlockConfig(input_filters=112, output_filters=192, kernel_size=5, num_repeat=4, expand_ratio=6, strides=(2, 2), se_ratio=0.25, id_skip=True, fused_conv=False, conv_type='depthwise'), BlockConfig(input_filters=192, output_filters=320, kernel_size=3, num_repeat=1, expand_ratio=6, strides=(1, 1), se_ratio=0.25, id_skip=True, fused_conv=False, conv_type='depthwise')), stem_base_filters=32, top_base_filters=1280, activation='simple_swish', batch_norm='default', bn_momentum=0.99, bn_epsilon=0.001, weight_decay=5e-06, drop_connect_rate=0.2, depth_divisor=8, min_depth=None, use_se=True, input_channels=3, num_classes=1000, model_name='efficientnet', rescale_input=False, data_format='channels_last', dtype='float32')\n",
      "I0706 18:41:03.418347 140285501179712 ssd_efficientnet_bifpn_feature_extractor.py:145] EfficientDet EfficientNet backbone version: efficientnet-b3\n",
      "I0706 18:41:03.418506 140285501179712 ssd_efficientnet_bifpn_feature_extractor.py:147] EfficientDet BiFPN num filters: 160\n",
      "I0706 18:41:03.418592 140285501179712 ssd_efficientnet_bifpn_feature_extractor.py:148] EfficientDet BiFPN num iterations: 6\n",
      "I0706 18:41:03.420710 140285501179712 efficientnet_model.py:143] round_filter input=32 output=40\n",
      "I0706 18:41:03.442098 140285501179712 efficientnet_model.py:143] round_filter input=32 output=40\n",
      "I0706 18:41:03.442254 140285501179712 efficientnet_model.py:143] round_filter input=16 output=24\n",
      "I0706 18:41:03.632956 140285501179712 efficientnet_model.py:143] round_filter input=16 output=24\n",
      "I0706 18:41:03.633118 140285501179712 efficientnet_model.py:143] round_filter input=24 output=32\n",
      "I0706 18:41:04.028750 140285501179712 efficientnet_model.py:143] round_filter input=24 output=32\n",
      "I0706 18:41:04.028919 140285501179712 efficientnet_model.py:143] round_filter input=40 output=48\n",
      "I0706 18:41:04.351099 140285501179712 efficientnet_model.py:143] round_filter input=40 output=48\n",
      "I0706 18:41:04.351265 140285501179712 efficientnet_model.py:143] round_filter input=80 output=96\n",
      "I0706 18:41:04.985165 140285501179712 efficientnet_model.py:143] round_filter input=80 output=96\n",
      "I0706 18:41:04.985344 140285501179712 efficientnet_model.py:143] round_filter input=112 output=136\n",
      "I0706 18:41:05.621127 140285501179712 efficientnet_model.py:143] round_filter input=112 output=136\n",
      "I0706 18:41:05.621328 140285501179712 efficientnet_model.py:143] round_filter input=192 output=232\n",
      "I0706 18:41:06.347465 140285501179712 efficientnet_model.py:143] round_filter input=192 output=232\n",
      "I0706 18:41:06.347622 140285501179712 efficientnet_model.py:143] round_filter input=320 output=384\n",
      "I0706 18:41:06.623677 140285501179712 efficientnet_model.py:143] round_filter input=1280 output=1536\n",
      "I0706 18:41:06.695817 140285501179712 efficientnet_model.py:453] Building model efficientnet with params ModelConfig(width_coefficient=1.2, depth_coefficient=1.4, resolution=300, dropout_rate=0.3, blocks=(BlockConfig(input_filters=32, output_filters=16, kernel_size=3, num_repeat=1, expand_ratio=1, strides=(1, 1), se_ratio=0.25, id_skip=True, fused_conv=False, conv_type='depthwise'), BlockConfig(input_filters=16, output_filters=24, kernel_size=3, num_repeat=2, expand_ratio=6, strides=(2, 2), se_ratio=0.25, id_skip=True, fused_conv=False, conv_type='depthwise'), BlockConfig(input_filters=24, output_filters=40, kernel_size=5, num_repeat=2, expand_ratio=6, strides=(2, 2), se_ratio=0.25, id_skip=True, fused_conv=False, conv_type='depthwise'), BlockConfig(input_filters=40, output_filters=80, kernel_size=3, num_repeat=3, expand_ratio=6, strides=(2, 2), se_ratio=0.25, id_skip=True, fused_conv=False, conv_type='depthwise'), BlockConfig(input_filters=80, output_filters=112, kernel_size=5, num_repeat=3, expand_ratio=6, strides=(1, 1), se_ratio=0.25, id_skip=True, fused_conv=False, conv_type='depthwise'), BlockConfig(input_filters=112, output_filters=192, kernel_size=5, num_repeat=4, expand_ratio=6, strides=(2, 2), se_ratio=0.25, id_skip=True, fused_conv=False, conv_type='depthwise'), BlockConfig(input_filters=192, output_filters=320, kernel_size=3, num_repeat=1, expand_ratio=6, strides=(1, 1), se_ratio=0.25, id_skip=True, fused_conv=False, conv_type='depthwise')), stem_base_filters=32, top_base_filters=1280, activation='simple_swish', batch_norm='default', bn_momentum=0.99, bn_epsilon=0.001, weight_decay=5e-06, drop_connect_rate=0.2, depth_divisor=8, min_depth=None, use_se=True, input_channels=3, num_classes=1000, model_name='efficientnet', rescale_input=False, data_format='channels_last', dtype='float32')\n",
      "I0706 18:41:06.826469 140285501179712 ssd_efficientnet_bifpn_feature_extractor.py:145] EfficientDet EfficientNet backbone version: efficientnet-b4\n",
      "I0706 18:41:06.826654 140285501179712 ssd_efficientnet_bifpn_feature_extractor.py:147] EfficientDet BiFPN num filters: 224\n",
      "I0706 18:41:06.826755 140285501179712 ssd_efficientnet_bifpn_feature_extractor.py:148] EfficientDet BiFPN num iterations: 7\n",
      "I0706 18:41:06.829255 140285501179712 efficientnet_model.py:143] round_filter input=32 output=48\n",
      "I0706 18:41:06.864767 140285501179712 efficientnet_model.py:143] round_filter input=32 output=48\n",
      "I0706 18:41:06.864928 140285501179712 efficientnet_model.py:143] round_filter input=16 output=24\n",
      "I0706 18:41:07.083778 140285501179712 efficientnet_model.py:143] round_filter input=16 output=24\n",
      "I0706 18:41:07.083969 140285501179712 efficientnet_model.py:143] round_filter input=24 output=32\n",
      "I0706 18:41:07.567878 140285501179712 efficientnet_model.py:143] round_filter input=24 output=32\n",
      "I0706 18:41:07.568052 140285501179712 efficientnet_model.py:143] round_filter input=40 output=56\n",
      "I0706 18:41:08.024151 140285501179712 efficientnet_model.py:143] round_filter input=40 output=56\n",
      "I0706 18:41:08.024325 140285501179712 efficientnet_model.py:143] round_filter input=80 output=112\n",
      "I0706 18:41:08.741791 140285501179712 efficientnet_model.py:143] round_filter input=80 output=112\n",
      "I0706 18:41:08.741968 140285501179712 efficientnet_model.py:143] round_filter input=112 output=160\n"
     ]
    },
    {
     "name": "stdout",
     "output_type": "stream",
     "text": [
      "I0706 18:41:09.506998 140285501179712 efficientnet_model.py:143] round_filter input=112 output=160\n",
      "I0706 18:41:09.507175 140285501179712 efficientnet_model.py:143] round_filter input=192 output=272\n",
      "I0706 18:41:10.550409 140285501179712 efficientnet_model.py:143] round_filter input=192 output=272\n",
      "I0706 18:41:10.550570 140285501179712 efficientnet_model.py:143] round_filter input=320 output=448\n",
      "I0706 18:41:10.822947 140285501179712 efficientnet_model.py:143] round_filter input=1280 output=1792\n",
      "I0706 18:41:10.890147 140285501179712 efficientnet_model.py:453] Building model efficientnet with params ModelConfig(width_coefficient=1.4, depth_coefficient=1.8, resolution=380, dropout_rate=0.4, blocks=(BlockConfig(input_filters=32, output_filters=16, kernel_size=3, num_repeat=1, expand_ratio=1, strides=(1, 1), se_ratio=0.25, id_skip=True, fused_conv=False, conv_type='depthwise'), BlockConfig(input_filters=16, output_filters=24, kernel_size=3, num_repeat=2, expand_ratio=6, strides=(2, 2), se_ratio=0.25, id_skip=True, fused_conv=False, conv_type='depthwise'), BlockConfig(input_filters=24, output_filters=40, kernel_size=5, num_repeat=2, expand_ratio=6, strides=(2, 2), se_ratio=0.25, id_skip=True, fused_conv=False, conv_type='depthwise'), BlockConfig(input_filters=40, output_filters=80, kernel_size=3, num_repeat=3, expand_ratio=6, strides=(2, 2), se_ratio=0.25, id_skip=True, fused_conv=False, conv_type='depthwise'), BlockConfig(input_filters=80, output_filters=112, kernel_size=5, num_repeat=3, expand_ratio=6, strides=(1, 1), se_ratio=0.25, id_skip=True, fused_conv=False, conv_type='depthwise'), BlockConfig(input_filters=112, output_filters=192, kernel_size=5, num_repeat=4, expand_ratio=6, strides=(2, 2), se_ratio=0.25, id_skip=True, fused_conv=False, conv_type='depthwise'), BlockConfig(input_filters=192, output_filters=320, kernel_size=3, num_repeat=1, expand_ratio=6, strides=(1, 1), se_ratio=0.25, id_skip=True, fused_conv=False, conv_type='depthwise')), stem_base_filters=32, top_base_filters=1280, activation='simple_swish', batch_norm='default', bn_momentum=0.99, bn_epsilon=0.001, weight_decay=5e-06, drop_connect_rate=0.2, depth_divisor=8, min_depth=None, use_se=True, input_channels=3, num_classes=1000, model_name='efficientnet', rescale_input=False, data_format='channels_last', dtype='float32')\n",
      "I0706 18:41:11.193051 140285501179712 ssd_efficientnet_bifpn_feature_extractor.py:145] EfficientDet EfficientNet backbone version: efficientnet-b5\n",
      "I0706 18:41:11.193227 140285501179712 ssd_efficientnet_bifpn_feature_extractor.py:147] EfficientDet BiFPN num filters: 288\n",
      "I0706 18:41:11.193356 140285501179712 ssd_efficientnet_bifpn_feature_extractor.py:148] EfficientDet BiFPN num iterations: 7\n",
      "I0706 18:41:11.195973 140285501179712 efficientnet_model.py:143] round_filter input=32 output=48\n",
      "I0706 18:41:11.227960 140285501179712 efficientnet_model.py:143] round_filter input=32 output=48\n",
      "I0706 18:41:11.228129 140285501179712 efficientnet_model.py:143] round_filter input=16 output=24\n",
      "I0706 18:41:11.547326 140285501179712 efficientnet_model.py:143] round_filter input=16 output=24\n",
      "I0706 18:41:11.547492 140285501179712 efficientnet_model.py:143] round_filter input=24 output=40\n",
      "I0706 18:41:12.145048 140285501179712 efficientnet_model.py:143] round_filter input=24 output=40\n",
      "I0706 18:41:12.145213 140285501179712 efficientnet_model.py:143] round_filter input=40 output=64\n",
      "I0706 18:41:12.739999 140285501179712 efficientnet_model.py:143] round_filter input=40 output=64\n",
      "I0706 18:41:12.740161 140285501179712 efficientnet_model.py:143] round_filter input=80 output=128\n",
      "I0706 18:41:13.556783 140285501179712 efficientnet_model.py:143] round_filter input=80 output=128\n",
      "I0706 18:41:13.556966 140285501179712 efficientnet_model.py:143] round_filter input=112 output=176\n",
      "I0706 18:41:14.439119 140285501179712 efficientnet_model.py:143] round_filter input=112 output=176\n",
      "I0706 18:41:14.439291 140285501179712 efficientnet_model.py:143] round_filter input=192 output=304\n",
      "I0706 18:41:15.656469 140285501179712 efficientnet_model.py:143] round_filter input=192 output=304\n",
      "I0706 18:41:15.656649 140285501179712 efficientnet_model.py:143] round_filter input=320 output=512\n",
      "I0706 18:41:16.111592 140285501179712 efficientnet_model.py:143] round_filter input=1280 output=2048\n",
      "I0706 18:41:16.183372 140285501179712 efficientnet_model.py:453] Building model efficientnet with params ModelConfig(width_coefficient=1.6, depth_coefficient=2.2, resolution=456, dropout_rate=0.4, blocks=(BlockConfig(input_filters=32, output_filters=16, kernel_size=3, num_repeat=1, expand_ratio=1, strides=(1, 1), se_ratio=0.25, id_skip=True, fused_conv=False, conv_type='depthwise'), BlockConfig(input_filters=16, output_filters=24, kernel_size=3, num_repeat=2, expand_ratio=6, strides=(2, 2), se_ratio=0.25, id_skip=True, fused_conv=False, conv_type='depthwise'), BlockConfig(input_filters=24, output_filters=40, kernel_size=5, num_repeat=2, expand_ratio=6, strides=(2, 2), se_ratio=0.25, id_skip=True, fused_conv=False, conv_type='depthwise'), BlockConfig(input_filters=40, output_filters=80, kernel_size=3, num_repeat=3, expand_ratio=6, strides=(2, 2), se_ratio=0.25, id_skip=True, fused_conv=False, conv_type='depthwise'), BlockConfig(input_filters=80, output_filters=112, kernel_size=5, num_repeat=3, expand_ratio=6, strides=(1, 1), se_ratio=0.25, id_skip=True, fused_conv=False, conv_type='depthwise'), BlockConfig(input_filters=112, output_filters=192, kernel_size=5, num_repeat=4, expand_ratio=6, strides=(2, 2), se_ratio=0.25, id_skip=True, fused_conv=False, conv_type='depthwise'), BlockConfig(input_filters=192, output_filters=320, kernel_size=3, num_repeat=1, expand_ratio=6, strides=(1, 1), se_ratio=0.25, id_skip=True, fused_conv=False, conv_type='depthwise')), stem_base_filters=32, top_base_filters=1280, activation='simple_swish', batch_norm='default', bn_momentum=0.99, bn_epsilon=0.001, weight_decay=5e-06, drop_connect_rate=0.2, depth_divisor=8, min_depth=None, use_se=True, input_channels=3, num_classes=1000, model_name='efficientnet', rescale_input=False, data_format='channels_last', dtype='float32')\n",
      "I0706 18:41:16.317139 140285501179712 ssd_efficientnet_bifpn_feature_extractor.py:145] EfficientDet EfficientNet backbone version: efficientnet-b6\n",
      "I0706 18:41:16.317306 140285501179712 ssd_efficientnet_bifpn_feature_extractor.py:147] EfficientDet BiFPN num filters: 384\n",
      "I0706 18:41:16.317410 140285501179712 ssd_efficientnet_bifpn_feature_extractor.py:148] EfficientDet BiFPN num iterations: 8\n",
      "I0706 18:41:16.319653 140285501179712 efficientnet_model.py:143] round_filter input=32 output=56\n",
      "I0706 18:41:16.342547 140285501179712 efficientnet_model.py:143] round_filter input=32 output=56\n",
      "I0706 18:41:16.342705 140285501179712 efficientnet_model.py:143] round_filter input=16 output=32\n",
      "I0706 18:41:16.614604 140285501179712 efficientnet_model.py:143] round_filter input=16 output=32\n",
      "I0706 18:41:16.614768 140285501179712 efficientnet_model.py:143] round_filter input=24 output=40\n",
      "I0706 18:41:17.265494 140285501179712 efficientnet_model.py:143] round_filter input=24 output=40\n",
      "I0706 18:41:17.265704 140285501179712 efficientnet_model.py:143] round_filter input=40 output=72\n",
      "I0706 18:41:17.965499 140285501179712 efficientnet_model.py:143] round_filter input=40 output=72\n",
      "I0706 18:41:17.965670 140285501179712 efficientnet_model.py:143] round_filter input=80 output=144\n",
      "I0706 18:41:18.905403 140285501179712 efficientnet_model.py:143] round_filter input=80 output=144\n",
      "I0706 18:41:18.905640 140285501179712 efficientnet_model.py:143] round_filter input=112 output=200\n",
      "I0706 18:41:19.918776 140285501179712 efficientnet_model.py:143] round_filter input=112 output=200\n",
      "I0706 18:41:19.918981 140285501179712 efficientnet_model.py:143] round_filter input=192 output=344\n",
      "I0706 18:41:21.851417 140285501179712 efficientnet_model.py:143] round_filter input=192 output=344\n",
      "I0706 18:41:21.851588 140285501179712 efficientnet_model.py:143] round_filter input=320 output=576\n",
      "I0706 18:41:22.361900 140285501179712 efficientnet_model.py:143] round_filter input=1280 output=2304\n",
      "I0706 18:41:22.440389 140285501179712 efficientnet_model.py:453] Building model efficientnet with params ModelConfig(width_coefficient=1.8, depth_coefficient=2.6, resolution=528, dropout_rate=0.5, blocks=(BlockConfig(input_filters=32, output_filters=16, kernel_size=3, num_repeat=1, expand_ratio=1, strides=(1, 1), se_ratio=0.25, id_skip=True, fused_conv=False, conv_type='depthwise'), BlockConfig(input_filters=16, output_filters=24, kernel_size=3, num_repeat=2, expand_ratio=6, strides=(2, 2), se_ratio=0.25, id_skip=True, fused_conv=False, conv_type='depthwise'), BlockConfig(input_filters=24, output_filters=40, kernel_size=5, num_repeat=2, expand_ratio=6, strides=(2, 2), se_ratio=0.25, id_skip=True, fused_conv=False, conv_type='depthwise'), BlockConfig(input_filters=40, output_filters=80, kernel_size=3, num_repeat=3, expand_ratio=6, strides=(2, 2), se_ratio=0.25, id_skip=True, fused_conv=False, conv_type='depthwise'), BlockConfig(input_filters=80, output_filters=112, kernel_size=5, num_repeat=3, expand_ratio=6, strides=(1, 1), se_ratio=0.25, id_skip=True, fused_conv=False, conv_type='depthwise'), BlockConfig(input_filters=112, output_filters=192, kernel_size=5, num_repeat=4, expand_ratio=6, strides=(2, 2), se_ratio=0.25, id_skip=True, fused_conv=False, conv_type='depthwise'), BlockConfig(input_filters=192, output_filters=320, kernel_size=3, num_repeat=1, expand_ratio=6, strides=(1, 1), se_ratio=0.25, id_skip=True, fused_conv=False, conv_type='depthwise')), stem_base_filters=32, top_base_filters=1280, activation='simple_swish', batch_norm='default', bn_momentum=0.99, bn_epsilon=0.001, weight_decay=5e-06, drop_connect_rate=0.2, depth_divisor=8, min_depth=None, use_se=True, input_channels=3, num_classes=1000, model_name='efficientnet', rescale_input=False, data_format='channels_last', dtype='float32')\n"
     ]
    },
    {
     "name": "stdout",
     "output_type": "stream",
     "text": [
      "I0706 18:41:22.597910 140285501179712 ssd_efficientnet_bifpn_feature_extractor.py:145] EfficientDet EfficientNet backbone version: efficientnet-b7\n",
      "I0706 18:41:22.598093 140285501179712 ssd_efficientnet_bifpn_feature_extractor.py:147] EfficientDet BiFPN num filters: 384\n",
      "I0706 18:41:22.598190 140285501179712 ssd_efficientnet_bifpn_feature_extractor.py:148] EfficientDet BiFPN num iterations: 8\n",
      "I0706 18:41:22.600528 140285501179712 efficientnet_model.py:143] round_filter input=32 output=64\n",
      "I0706 18:41:22.624850 140285501179712 efficientnet_model.py:143] round_filter input=32 output=64\n",
      "I0706 18:41:22.625025 140285501179712 efficientnet_model.py:143] round_filter input=16 output=32\n",
      "I0706 18:41:22.982581 140285501179712 efficientnet_model.py:143] round_filter input=16 output=32\n",
      "I0706 18:41:22.982748 140285501179712 efficientnet_model.py:143] round_filter input=24 output=48\n",
      "I0706 18:41:23.820091 140285501179712 efficientnet_model.py:143] round_filter input=24 output=48\n",
      "I0706 18:41:23.820332 140285501179712 efficientnet_model.py:143] round_filter input=40 output=80\n",
      "I0706 18:41:24.747049 140285501179712 efficientnet_model.py:143] round_filter input=40 output=80\n",
      "I0706 18:41:24.747220 140285501179712 efficientnet_model.py:143] round_filter input=80 output=160\n",
      "I0706 18:41:26.051015 140285501179712 efficientnet_model.py:143] round_filter input=80 output=160\n",
      "I0706 18:41:26.051184 140285501179712 efficientnet_model.py:143] round_filter input=112 output=224\n",
      "I0706 18:41:27.230901 140285501179712 efficientnet_model.py:143] round_filter input=112 output=224\n",
      "I0706 18:41:27.231074 140285501179712 efficientnet_model.py:143] round_filter input=192 output=384\n",
      "I0706 18:41:29.000091 140285501179712 efficientnet_model.py:143] round_filter input=192 output=384\n",
      "I0706 18:41:29.000259 140285501179712 efficientnet_model.py:143] round_filter input=320 output=640\n",
      "I0706 18:41:29.716731 140285501179712 efficientnet_model.py:143] round_filter input=1280 output=2560\n",
      "I0706 18:41:29.803435 140285501179712 efficientnet_model.py:453] Building model efficientnet with params ModelConfig(width_coefficient=2.0, depth_coefficient=3.1, resolution=600, dropout_rate=0.5, blocks=(BlockConfig(input_filters=32, output_filters=16, kernel_size=3, num_repeat=1, expand_ratio=1, strides=(1, 1), se_ratio=0.25, id_skip=True, fused_conv=False, conv_type='depthwise'), BlockConfig(input_filters=16, output_filters=24, kernel_size=3, num_repeat=2, expand_ratio=6, strides=(2, 2), se_ratio=0.25, id_skip=True, fused_conv=False, conv_type='depthwise'), BlockConfig(input_filters=24, output_filters=40, kernel_size=5, num_repeat=2, expand_ratio=6, strides=(2, 2), se_ratio=0.25, id_skip=True, fused_conv=False, conv_type='depthwise'), BlockConfig(input_filters=40, output_filters=80, kernel_size=3, num_repeat=3, expand_ratio=6, strides=(2, 2), se_ratio=0.25, id_skip=True, fused_conv=False, conv_type='depthwise'), BlockConfig(input_filters=80, output_filters=112, kernel_size=5, num_repeat=3, expand_ratio=6, strides=(1, 1), se_ratio=0.25, id_skip=True, fused_conv=False, conv_type='depthwise'), BlockConfig(input_filters=112, output_filters=192, kernel_size=5, num_repeat=4, expand_ratio=6, strides=(2, 2), se_ratio=0.25, id_skip=True, fused_conv=False, conv_type='depthwise'), BlockConfig(input_filters=192, output_filters=320, kernel_size=3, num_repeat=1, expand_ratio=6, strides=(1, 1), se_ratio=0.25, id_skip=True, fused_conv=False, conv_type='depthwise')), stem_base_filters=32, top_base_filters=1280, activation='simple_swish', batch_norm='default', bn_momentum=0.99, bn_epsilon=0.001, weight_decay=5e-06, drop_connect_rate=0.2, depth_divisor=8, min_depth=None, use_se=True, input_channels=3, num_classes=1000, model_name='efficientnet', rescale_input=False, data_format='channels_last', dtype='float32')\n",
      "INFO:tensorflow:time(__main__.ModelBuilderTF2Test.test_create_ssd_models_from_config): 33.6s\n",
      "I0706 18:41:30.011595 140285501179712 test_util.py:2458] time(__main__.ModelBuilderTF2Test.test_create_ssd_models_from_config): 33.6s\n",
      "[       OK ] ModelBuilderTF2Test.test_create_ssd_models_from_config\n",
      "[ RUN      ] ModelBuilderTF2Test.test_invalid_faster_rcnn_batchnorm_update\n",
      "INFO:tensorflow:time(__main__.ModelBuilderTF2Test.test_invalid_faster_rcnn_batchnorm_update): 0.01s\n",
      "I0706 18:41:30.027193 140285501179712 test_util.py:2458] time(__main__.ModelBuilderTF2Test.test_invalid_faster_rcnn_batchnorm_update): 0.01s\n",
      "[       OK ] ModelBuilderTF2Test.test_invalid_faster_rcnn_batchnorm_update\n",
      "[ RUN      ] ModelBuilderTF2Test.test_invalid_first_stage_nms_iou_threshold\n",
      "INFO:tensorflow:time(__main__.ModelBuilderTF2Test.test_invalid_first_stage_nms_iou_threshold): 0.0s\n",
      "I0706 18:41:30.029906 140285501179712 test_util.py:2458] time(__main__.ModelBuilderTF2Test.test_invalid_first_stage_nms_iou_threshold): 0.0s\n",
      "[       OK ] ModelBuilderTF2Test.test_invalid_first_stage_nms_iou_threshold\n",
      "[ RUN      ] ModelBuilderTF2Test.test_invalid_model_config_proto\n",
      "INFO:tensorflow:time(__main__.ModelBuilderTF2Test.test_invalid_model_config_proto): 0.0s\n",
      "I0706 18:41:30.030709 140285501179712 test_util.py:2458] time(__main__.ModelBuilderTF2Test.test_invalid_model_config_proto): 0.0s\n",
      "[       OK ] ModelBuilderTF2Test.test_invalid_model_config_proto\n",
      "[ RUN      ] ModelBuilderTF2Test.test_invalid_second_stage_batch_size\n",
      "INFO:tensorflow:time(__main__.ModelBuilderTF2Test.test_invalid_second_stage_batch_size): 0.0s\n",
      "I0706 18:41:30.033322 140285501179712 test_util.py:2458] time(__main__.ModelBuilderTF2Test.test_invalid_second_stage_batch_size): 0.0s\n",
      "[       OK ] ModelBuilderTF2Test.test_invalid_second_stage_batch_size\n",
      "[ RUN      ] ModelBuilderTF2Test.test_session\n",
      "[  SKIPPED ] ModelBuilderTF2Test.test_session\n",
      "[ RUN      ] ModelBuilderTF2Test.test_unknown_faster_rcnn_feature_extractor\n",
      "INFO:tensorflow:time(__main__.ModelBuilderTF2Test.test_unknown_faster_rcnn_feature_extractor): 0.0s\n",
      "I0706 18:41:30.036684 140285501179712 test_util.py:2458] time(__main__.ModelBuilderTF2Test.test_unknown_faster_rcnn_feature_extractor): 0.0s\n",
      "[       OK ] ModelBuilderTF2Test.test_unknown_faster_rcnn_feature_extractor\n",
      "[ RUN      ] ModelBuilderTF2Test.test_unknown_meta_architecture\n",
      "INFO:tensorflow:time(__main__.ModelBuilderTF2Test.test_unknown_meta_architecture): 0.0s\n",
      "I0706 18:41:30.037761 140285501179712 test_util.py:2458] time(__main__.ModelBuilderTF2Test.test_unknown_meta_architecture): 0.0s\n",
      "[       OK ] ModelBuilderTF2Test.test_unknown_meta_architecture\n",
      "[ RUN      ] ModelBuilderTF2Test.test_unknown_ssd_feature_extractor\n",
      "INFO:tensorflow:time(__main__.ModelBuilderTF2Test.test_unknown_ssd_feature_extractor): 0.0s\n",
      "I0706 18:41:30.041032 140285501179712 test_util.py:2458] time(__main__.ModelBuilderTF2Test.test_unknown_ssd_feature_extractor): 0.0s\n",
      "[       OK ] ModelBuilderTF2Test.test_unknown_ssd_feature_extractor\n",
      "----------------------------------------------------------------------\n",
      "Ran 24 tests in 38.393s\n",
      "\n",
      "OK (skipped=1)\n"
     ]
    }
   ],
   "source": [
    "VERIFICATION_SCRIPT = os.path.join(paths['APIMODEL_PATH'], 'research', 'object_detection', 'builders', 'model_builder_tf2_test.py')\n",
    "# Verify Installation\n",
    "!python {VERIFICATION_SCRIPT}"
   ]
  },
  {
   "cell_type": "code",
   "execution_count": 11,
   "metadata": {
    "scrolled": true
   },
   "outputs": [
    {
     "name": "stdout",
     "output_type": "stream",
     "text": [
      "Defaulting to user installation because normal site-packages is not writeable\n",
      "Requirement already satisfied: tensorflow==2.9.0 in /home/Roleo/.local/lib/python3.8/site-packages (2.9.0)\n",
      "Requirement already satisfied: tensorflow-gpu==2.9.0 in /home/Roleo/.local/lib/python3.8/site-packages (2.9.0)\n",
      "Requirement already satisfied: gast<=0.4.0,>=0.2.1 in /home/Roleo/.local/lib/python3.8/site-packages (from tensorflow==2.9.0) (0.4.0)\n",
      "Requirement already satisfied: setuptools in /usr/lib/python3.8/site-packages (from tensorflow==2.9.0) (41.6.0)\n",
      "Requirement already satisfied: keras-preprocessing>=1.1.1 in /home/Roleo/.local/lib/python3.8/site-packages (from tensorflow==2.9.0) (1.1.2)\n",
      "Requirement already satisfied: tensorflow-estimator<2.10.0,>=2.9.0rc0 in /home/Roleo/.local/lib/python3.8/site-packages (from tensorflow==2.9.0) (2.9.0)\n",
      "Requirement already satisfied: absl-py>=1.0.0 in /home/Roleo/.local/lib/python3.8/site-packages (from tensorflow==2.9.0) (1.1.0)\n",
      "Requirement already satisfied: protobuf>=3.9.2 in /home/Roleo/.local/lib/python3.8/site-packages (from tensorflow==2.9.0) (3.19.4)\n",
      "Requirement already satisfied: h5py>=2.9.0 in /home/Roleo/.local/lib/python3.8/site-packages (from tensorflow==2.9.0) (3.7.0)\n",
      "Requirement already satisfied: opt-einsum>=2.3.2 in /home/Roleo/.local/lib/python3.8/site-packages (from tensorflow==2.9.0) (3.3.0)\n",
      "Requirement already satisfied: flatbuffers<2,>=1.12 in /home/Roleo/.local/lib/python3.8/site-packages (from tensorflow==2.9.0) (1.12)\n",
      "Requirement already satisfied: astunparse>=1.6.0 in /home/Roleo/.local/lib/python3.8/site-packages (from tensorflow==2.9.0) (1.6.3)\n",
      "Requirement already satisfied: packaging in /usr/local/lib/python3.8/site-packages (from tensorflow==2.9.0) (21.3)\n",
      "Requirement already satisfied: termcolor>=1.1.0 in /home/Roleo/.local/lib/python3.8/site-packages (from tensorflow==2.9.0) (1.1.0)\n",
      "Requirement already satisfied: typing-extensions>=3.6.6 in /home/Roleo/.local/lib/python3.8/site-packages (from tensorflow==2.9.0) (4.3.0)\n",
      "Requirement already satisfied: wrapt>=1.11.0 in /home/Roleo/.local/lib/python3.8/site-packages (from tensorflow==2.9.0) (1.14.1)\n",
      "Requirement already satisfied: keras<2.10.0,>=2.9.0rc0 in /home/Roleo/.local/lib/python3.8/site-packages (from tensorflow==2.9.0) (2.9.0)\n",
      "Requirement already satisfied: six>=1.12.0 in /usr/lib/python3.8/site-packages (from tensorflow==2.9.0) (1.14.0)\n",
      "Requirement already satisfied: numpy>=1.20 in /home/Roleo/.local/lib/python3.8/site-packages (from tensorflow==2.9.0) (1.22.4)\n",
      "Requirement already satisfied: tensorboard<2.10,>=2.9 in /home/Roleo/.local/lib/python3.8/site-packages (from tensorflow==2.9.0) (2.9.1)\n",
      "Requirement already satisfied: google-pasta>=0.1.1 in /home/Roleo/.local/lib/python3.8/site-packages (from tensorflow==2.9.0) (0.2.0)\n",
      "Requirement already satisfied: tensorflow-io-gcs-filesystem>=0.23.1 in /home/Roleo/.local/lib/python3.8/site-packages (from tensorflow==2.9.0) (0.26.0)\n",
      "Requirement already satisfied: libclang>=13.0.0 in /home/Roleo/.local/lib/python3.8/site-packages (from tensorflow==2.9.0) (14.0.1)\n",
      "Requirement already satisfied: grpcio<2.0,>=1.24.3 in /home/Roleo/.local/lib/python3.8/site-packages (from tensorflow==2.9.0) (1.47.0)\n",
      "Requirement already satisfied: wheel<1.0,>=0.23.0 in /home/Roleo/.local/lib/python3.8/site-packages (from astunparse>=1.6.0->tensorflow==2.9.0) (0.37.1)\n",
      "Requirement already satisfied: tensorboard-plugin-wit>=1.6.0 in /home/Roleo/.local/lib/python3.8/site-packages (from tensorboard<2.10,>=2.9->tensorflow==2.9.0) (1.8.1)\n",
      "Requirement already satisfied: google-auth<3,>=1.6.3 in /home/Roleo/.local/lib/python3.8/site-packages (from tensorboard<2.10,>=2.9->tensorflow==2.9.0) (2.9.0)\n",
      "Requirement already satisfied: markdown>=2.6.8 in /home/Roleo/.local/lib/python3.8/site-packages (from tensorboard<2.10,>=2.9->tensorflow==2.9.0) (3.3.7)\n",
      "Requirement already satisfied: requests<3,>=2.21.0 in /home/Roleo/.local/lib/python3.8/site-packages (from tensorboard<2.10,>=2.9->tensorflow==2.9.0) (2.28.1)\n",
      "Requirement already satisfied: werkzeug>=1.0.1 in /home/Roleo/.local/lib/python3.8/site-packages (from tensorboard<2.10,>=2.9->tensorflow==2.9.0) (2.1.2)\n",
      "Requirement already satisfied: google-auth-oauthlib<0.5,>=0.4.1 in /home/Roleo/.local/lib/python3.8/site-packages (from tensorboard<2.10,>=2.9->tensorflow==2.9.0) (0.4.6)\n",
      "Requirement already satisfied: tensorboard-data-server<0.7.0,>=0.6.0 in /home/Roleo/.local/lib/python3.8/site-packages (from tensorboard<2.10,>=2.9->tensorflow==2.9.0) (0.6.1)\n",
      "Requirement already satisfied: pyparsing!=3.0.5,>=2.0.2 in /home/Roleo/.local/lib/python3.8/site-packages (from packaging->tensorflow==2.9.0) (2.4.7)\n",
      "Requirement already satisfied: cachetools<6.0,>=2.0.0 in /home/Roleo/.local/lib/python3.8/site-packages (from google-auth<3,>=1.6.3->tensorboard<2.10,>=2.9->tensorflow==2.9.0) (5.2.0)\n",
      "Requirement already satisfied: pyasn1-modules>=0.2.1 in /home/Roleo/.local/lib/python3.8/site-packages (from google-auth<3,>=1.6.3->tensorboard<2.10,>=2.9->tensorflow==2.9.0) (0.2.8)\n",
      "Requirement already satisfied: rsa<5,>=3.1.4 in /home/Roleo/.local/lib/python3.8/site-packages (from google-auth<3,>=1.6.3->tensorboard<2.10,>=2.9->tensorflow==2.9.0) (4.8)\n",
      "Requirement already satisfied: requests-oauthlib>=0.7.0 in /home/Roleo/.local/lib/python3.8/site-packages (from google-auth-oauthlib<0.5,>=0.4.1->tensorboard<2.10,>=2.9->tensorflow==2.9.0) (1.3.1)\n",
      "Requirement already satisfied: importlib-metadata>=4.4 in /home/Roleo/.local/lib/python3.8/site-packages (from markdown>=2.6.8->tensorboard<2.10,>=2.9->tensorflow==2.9.0) (4.12.0)\n",
      "Requirement already satisfied: idna<4,>=2.5 in /usr/lib/python3.8/site-packages (from requests<3,>=2.21.0->tensorboard<2.10,>=2.9->tensorflow==2.9.0) (2.8)\n",
      "Requirement already satisfied: urllib3<1.27,>=1.21.1 in /usr/lib/python3.8/site-packages (from requests<3,>=2.21.0->tensorboard<2.10,>=2.9->tensorflow==2.9.0) (1.25.7)\n",
      "Requirement already satisfied: certifi>=2017.4.17 in /home/Roleo/.local/lib/python3.8/site-packages (from requests<3,>=2.21.0->tensorboard<2.10,>=2.9->tensorflow==2.9.0) (2022.6.15)\n",
      "Requirement already satisfied: charset-normalizer<3,>=2 in /home/Roleo/.local/lib/python3.8/site-packages (from requests<3,>=2.21.0->tensorboard<2.10,>=2.9->tensorflow==2.9.0) (2.1.0)\n",
      "Requirement already satisfied: zipp>=0.5 in /home/Roleo/.local/lib/python3.8/site-packages (from importlib-metadata>=4.4->markdown>=2.6.8->tensorboard<2.10,>=2.9->tensorflow==2.9.0) (3.8.0)\n",
      "Requirement already satisfied: pyasn1<0.5.0,>=0.4.6 in /usr/lib/python3.8/site-packages (from pyasn1-modules>=0.2.1->google-auth<3,>=1.6.3->tensorboard<2.10,>=2.9->tensorflow==2.9.0) (0.4.8)\n",
      "Requirement already satisfied: oauthlib>=3.0.0 in /home/Roleo/.local/lib/python3.8/site-packages (from requests-oauthlib>=0.7.0->google-auth-oauthlib<0.5,>=0.4.1->tensorboard<2.10,>=2.9->tensorflow==2.9.0) (3.2.0)\n"
     ]
    }
   ],
   "source": [
    "!pip install tensorflow==2.9.0 tensorflow-gpu==2.9.0 --upgrade"
   ]
  },
  {
   "cell_type": "code",
   "execution_count": 12,
   "metadata": {
    "scrolled": true
   },
   "outputs": [
    {
     "name": "stdout",
     "output_type": "stream",
     "text": [
      "Defaulting to user installation because normal site-packages is not writeable\n",
      "Requirement already satisfied: Pillow in /usr/lib64/python3.8/site-packages (7.0.0)\n"
     ]
    }
   ],
   "source": [
    "!pip install Pillow"
   ]
  },
  {
   "cell_type": "code",
   "execution_count": 13,
   "metadata": {},
   "outputs": [
    {
     "name": "stdout",
     "output_type": "stream",
     "text": [
      "Defaulting to user installation because normal site-packages is not writeable\n",
      "Requirement already satisfied: pyyaml in /usr/lib64/python3.8/site-packages (5.4.1)\n"
     ]
    }
   ],
   "source": [
    "!pip install pyyaml\n"
   ]
  },
  {
   "cell_type": "code",
   "execution_count": 14,
   "metadata": {
    "scrolled": true
   },
   "outputs": [
    {
     "name": "stdout",
     "output_type": "stream",
     "text": [
      "Found existing installation: matplotlib 3.3.1\n",
      "Uninstalling matplotlib-3.3.1:\n",
      "  Successfully uninstalled matplotlib-3.3.1\n",
      "Defaulting to user installation because normal site-packages is not writeable\n",
      "Collecting matplotlib==3.3.1\n",
      "  Using cached matplotlib-3.3.1-cp38-cp38-manylinux1_x86_64.whl (11.6 MB)\n",
      "Requirement already satisfied: python-dateutil>=2.1 in /home/Roleo/.local/lib/python3.8/site-packages (from matplotlib==3.3.1) (2.8.2)\n",
      "Requirement already satisfied: pyparsing!=2.0.4,!=2.1.2,!=2.1.6,>=2.0.3 in /home/Roleo/.local/lib/python3.8/site-packages (from matplotlib==3.3.1) (2.4.7)\n",
      "Requirement already satisfied: pillow>=6.2.0 in /usr/lib64/python3.8/site-packages (from matplotlib==3.3.1) (7.0.0)\n",
      "Requirement already satisfied: kiwisolver>=1.0.1 in /home/Roleo/.local/lib/python3.8/site-packages (from matplotlib==3.3.1) (1.3.1)\n",
      "Requirement already satisfied: numpy>=1.15 in /home/Roleo/.local/lib/python3.8/site-packages (from matplotlib==3.3.1) (1.22.4)\n",
      "Requirement already satisfied: certifi>=2020.06.20 in /home/Roleo/.local/lib/python3.8/site-packages (from matplotlib==3.3.1) (2022.6.15)\n",
      "Requirement already satisfied: cycler>=0.10 in /home/Roleo/.local/lib/python3.8/site-packages (from matplotlib==3.3.1) (0.10.0)\n",
      "Requirement already satisfied: six in /usr/lib/python3.8/site-packages (from cycler>=0.10->matplotlib==3.3.1) (1.14.0)\n",
      "Installing collected packages: matplotlib\n",
      "Successfully installed matplotlib-3.3.1\n"
     ]
    }
   ],
   "source": [
    "!pip uninstall matplotlib -y\n",
    "!pip install matplotlib==3.3.1"
   ]
  },
  {
   "cell_type": "code",
   "execution_count": 15,
   "metadata": {},
   "outputs": [],
   "source": [
    "import object_detection"
   ]
  },
  {
   "cell_type": "code",
   "execution_count": 16,
   "metadata": {
    "scrolled": true
   },
   "outputs": [
    {
     "name": "stdout",
     "output_type": "stream",
     "text": [
      "Package                       Version     Editable project location\n",
      "----------------------------- ----------- ----------------------------------------------\n",
      "absl-py                       1.1.0\n",
      "altgraph                      0.17.2\n",
      "ansible                       2.9.21\n",
      "apache-beam                   2.40.0\n",
      "argcomplete                   1.10.0\n",
      "argon2-cffi                   21.3.0\n",
      "argon2-cffi-bindings          21.2.0\n",
      "asttokens                     2.0.5\n",
      "astunparse                    1.6.3\n",
      "attrs                         21.4.0\n",
      "autopep8                      1.6.0\n",
      "avro-python3                  1.10.2\n",
      "Babel                         2.8.0\n",
      "backcall                      0.2.0\n",
      "backports.zoneinfo            0.2.1\n",
      "bcrypt                        3.1.7\n",
      "beautifulsoup4                4.9.3\n",
      "bleach                        5.0.1\n",
      "blivet                        3.2.2\n",
      "blivet-gui                    2.1.15\n",
      "cachetools                    5.2.0\n",
      "cairocffi                     1.1.0\n",
      "CairoSVG                      2.4.2\n",
      "catfish                       1.4.11\n",
      "certifi                       2022.6.15\n",
      "cffi                          1.14.0\n",
      "chardet                       3.0.4\n",
      "charset-normalizer            2.1.0\n",
      "chrome-gnome-shell            0.0.0\n",
      "click                         8.0.0rc1\n",
      "cloudpickle                   2.1.0\n",
      "colorama                      0.4.4\n",
      "contextlib2                   21.6.0\n",
      "crcmod                        1.7\n",
      "cryptography                  2.8\n",
      "cssselect2                    0.3.0\n",
      "cupshelpers                   1.0\n",
      "cycler                        0.10.0\n",
      "Cython                        0.29.30\n",
      "dasbus                        0.2\n",
      "dbus-python                   1.2.16\n",
      "debugpy                       1.6.0\n",
      "decompyle3                    3.3.2\n",
      "decorator                     4.4.0\n",
      "defusedxml                    0.6.0\n",
      "dill                          0.3.1.1\n",
      "distro                        1.4.0\n",
      "dlib                          19.22.1\n",
      "dm-tree                       0.1.7\n",
      "docopt                        0.6.2\n",
      "entrypoints                   0.4\n",
      "etils                         0.6.0\n",
      "evillimiter                   1.5.0\n",
      "executing                     0.8.3\n",
      "fastavro                      1.5.2\n",
      "fastjsonschema                2.15.3\n",
      "flatbuffers                   1.12\n",
      "fluidity-sm                   0.2.0\n",
      "gast                          0.4.0\n",
      "gin-config                    0.5.0\n",
      "google-api-core               2.8.2\n",
      "google-api-python-client      2.52.0\n",
      "google-auth                   2.9.0\n",
      "google-auth-httplib2          0.1.0\n",
      "google-auth-oauthlib          0.4.6\n",
      "google-pasta                  0.2.0\n",
      "googleapis-common-protos      1.56.3\n",
      "gpg                           1.14.0\n",
      "grpcio                        1.47.0\n",
      "gTTS                          2.2.4\n",
      "h5py                          3.7.0\n",
      "hdfs                          2.7.0\n",
      "httplib2                      0.20.4\n",
      "humanize                      0.5.1\n",
      "idna                          2.8\n",
      "importlib-metadata            4.12.0\n",
      "importlib-resources           5.8.0\n",
      "imutils                       0.5.4\n",
      "initial-setup                 0.3.80\n",
      "invoke                        1.4.1\n",
      "ipykernel                     6.15.0\n",
      "ipython                       8.4.0\n",
      "ipython-genutils              0.2.0\n",
      "jedi                          0.18.1\n",
      "Jinja2                        3.1.2\n",
      "jmespath                      0.9.4\n",
      "joblib                        1.0.1\n",
      "Js2Py                         0.71\n",
      "jsonschema                    4.6.1\n",
      "jupyter-client                7.3.4\n",
      "jupyter-core                  4.10.0\n",
      "jupyterlab-pygments           0.2.2\n",
      "kaggle                        1.5.12\n",
      "keras                         2.9.0\n",
      "Keras-Preprocessing           1.1.2\n",
      "kiwisolver                    1.3.1\n",
      "langtable                     0.0.53\n",
      "lexicon                       1.0.0\n",
      "libclang                      14.0.1\n",
      "libcomps                      0.1.15\n",
      "libvirt-python                6.1.0\n",
      "lvis                          0.5.3\n",
      "lxml                          4.4.1\n",
      "lz4                           3.0.2\n",
      "Markdown                      3.3.7\n",
      "MarkupSafe                    2.1.1\n",
      "matplotlib                    3.3.1\n",
      "matplotlib-inline             0.1.3\n",
      "mistune                       0.8.4\n",
      "MouseInfo                     0.1.3\n",
      "natsort                       7.1.1\n",
      "nbclient                      0.6.6\n",
      "nbconvert                     6.5.0\n",
      "nbformat                      5.4.0\n",
      "nest-asyncio                  1.5.5\n",
      "netaddr                       0.8.0\n",
      "netifaces                     0.11.0\n",
      "nftables                      0.1\n",
      "notebook                      6.4.12\n",
      "notify2                       0.3.1\n",
      "ntlm-auth                     1.1.0\n",
      "ntplib                        0.3.3\n",
      "numpy                         1.22.4\n",
      "oauth2client                  4.1.3\n",
      "oauthlib                      3.2.0\n",
      "object-detection              0.1\n",
      "olefile                       0.46\n",
      "opencv-python                 4.6.0.66\n",
      "opencv-python-headless        4.6.0.66\n",
      "opt-einsum                    3.3.0\n",
      "ordered-set                   3.1\n",
      "orjson                        3.7.6\n",
      "packaging                     21.3\n",
      "pandas                        1.4.3\n",
      "pandocfilters                 1.5.0\n",
      "paramiko                      2.7.1\n",
      "parso                         0.8.3\n",
      "pexpect                       4.7.0\n",
      "pickleshare                   0.7.5\n",
      "pid                           2.2.3\n",
      "Pillow                        7.0.0\n",
      "pip                           22.1.2\n",
      "pipwin                        0.5.2\n",
      "ply                           3.11\n",
      "portalocker                   2.4.0\n",
      "productmd                     1.32\n",
      "prometheus-client             0.14.1\n",
      "promise                       2.3\n",
      "prompt-toolkit                3.0.30\n",
      "proto-plus                    1.20.6\n",
      "protobuf                      3.19.4\n",
      "psutil                        5.6.7\n",
      "ptyprocess                    0.6.0\n",
      "pure-eval                     0.2.2\n",
      "pwquality                     1.4.4\n",
      "py-cpuinfo                    8.0.0\n",
      "pyarrow                       7.0.0\n",
      "pyasn1                        0.4.8\n",
      "pyasn1-modules                0.2.8\n",
      "PyAudio                       0.2.11\n",
      "PyAutoGUI                     0.9.53\n",
      "pycairo                       1.18.2\n",
      "pycocotools                   2.0.4\n",
      "pycodestyle                   2.8.0\n",
      "pycparser                     2.19\n",
      "pycparser-fake-libc           2.20\n",
      "pycups                        2.0.1\n",
      "pycurl                        7.43.0.5\n",
      "pydbus                        0.6.0\n",
      "pydot                         1.4.2\n",
      "pyenchant                     2.0.0\n",
      "pygame                        2.1.2\n",
      "PyGetWindow                   0.0.9\n",
      "Pygments                      2.12.0\n",
      "PyGObject                     3.36.1\n",
      "pyinotify                     0.9.6\n",
      "pyinstaller                   4.10\n",
      "pyinstaller-hooks-contrib     2022.2\n",
      "pyjsparser                    2.7.1\n",
      "pykickstart                   3.24\n",
      "pymongo                       3.12.3\n",
      "PyMsgBox                      1.0.9\n",
      "PyNaCl                        1.3.0\n",
      "pyparsing                     2.4.7\n",
      "pyparted                      3.11.4\n",
      "pyperclip                     1.8.2\n",
      "PyPrind                       2.11.3\n",
      "PyRect                        0.2.0\n",
      "pyrsistent                    0.18.1\n",
      "PyScreeze                     0.1.28\n",
      "pySmartDL                     1.3.4\n",
      "PySocks                       1.7.1\n",
      "pystray                       0.17.1\n",
      "python-augeas                 0.5.0\n",
      "python-dateutil               2.8.2\n",
      "python-gettext                4.0\n",
      "python-manatools              0.0.3\n",
      "python-meh                    0.48\n",
      "python-slugify                6.1.2\n",
      "python-xlib                   0.28\n",
      "python3-xlib                  0.15\n",
      "pytweening                    1.0.4\n",
      "pytz                          2020.5\n",
      "pytz-deprecation-shim         0.1.0.post0\n",
      "pyudev                        0.22.0\n",
      "pywinrm                       0.3.0\n",
      "pyxdg                         0.26\n",
      "PyYAML                        5.4.1\n",
      "pyzmq                         23.2.0\n",
      "regex                         2022.6.2\n",
      "requests                      2.28.1\n",
      "requests-file                 1.4.3\n",
      "requests-ftp                  0.3.1\n",
      "requests-ntlm                 1.1.0\n",
      "requests-oauthlib             1.3.1\n",
      "rpm                           4.15.1.1\n",
      "rsa                           4.8\n",
      "sacrebleu                     2.1.0\n",
      "scapy                         2.4.5\n",
      "scikit-learn                  0.24.2\n",
      "scipy                         1.7.0\n",
      "selinux                       3.0\n",
      "Send2Trash                    1.8.0\n",
      "sentencepiece                 0.1.96\n",
      "sepolicy                      3.0\n",
      "seqeval                       1.2.2\n",
      "setools                       4.3.0\n",
      "setproctitle                  1.1.10\n",
      "setroubleshoot                1.1\n",
      "setuptools                    41.6.0\n",
      "simpleline                    1.6\n",
      "six                           1.14.0\n",
      "slip                          0.6.4\n",
      "slip.dbus                     0.6.4\n",
      "sos                           3.9\n",
      "sounddevice                   0.4.4\n",
      "soupsieve                     1.9.2\n",
      "spark-parser                  1.8.9\n",
      "SpeechRecognition             3.8.1\n",
      "srt                           3.5.2\n",
      "stack-data                    0.3.0\n",
      "systemd-python                234\n",
      "tabulate                      0.8.10\n",
      "tensorboard                   2.9.1\n",
      "tensorboard-data-server       0.6.1\n",
      "tensorboard-plugin-wit        1.8.1\n",
      "tensorflow                    2.9.0\n",
      "tensorflow-addons             0.17.1\n",
      "tensorflow-datasets           4.6.0\n",
      "tensorflow-estimator          2.9.0\n",
      "tensorflow-gpu                2.9.0\n",
      "tensorflow-hub                0.12.0\n",
      "tensorflow-io                 0.26.0\n",
      "tensorflow-io-gcs-filesystem  0.26.0\n",
      "tensorflow-metadata           1.9.0\n",
      "tensorflow-model-optimization 0.7.2\n",
      "tensorflow-text               2.9.0\n",
      "tensorflowjs                  3.18.0\n",
      "termcolor                     1.1.0\n",
      "terminado                     0.15.0\n",
      "terminaltables                3.1.0\n",
      "text-unidecode                1.3\n",
      "tf-models-official            2.9.2\n",
      "tf-slim                       1.1.0\n",
      "threadpoolctl                 2.2.0\n",
      "tinycss2                      1.0.2\n",
      "toml                          0.10.2\n",
      "tornado                       6.2\n",
      "tqdm                          4.62.2\n",
      "traitlets                     5.3.0\n",
      "typeguard                     2.13.3\n",
      "typing_extensions             4.3.0\n",
      "tzdata                        2022.1\n",
      "tzlocal                       4.2\n",
      "uncompyle6                    3.7.4       /home/Roleo/binary/uncompile/python-uncompyle6\n",
      "uritemplate                   4.1.1\n",
      "urllib3                       1.25.7\n",
      "virtualenv                    16.7.10\n",
      "virtualenv-api                2.1.16\n",
      "vosk                          0.3.42\n",
      "wcwidth                       0.2.5\n",
      "webencodings                  0.5.1\n",
      "Werkzeug                      2.1.2\n",
      "wheel                         0.37.1\n",
      "wrapt                         1.14.1\n",
      "wx_siplib                     4.19.21\n",
      "wxPython                      4.0.7\n",
      "xcffib                        0.9.0\n",
      "xdis                          5.0.9\n",
      "xmltodict                     0.12.0\n",
      "zipp                          3.8.0\n"
     ]
    }
   ],
   "source": [
    "!pip list"
   ]
  },
  {
   "cell_type": "code",
   "execution_count": 17,
   "metadata": {
    "colab": {
     "base_uri": "https://localhost:8080/"
    },
    "id": "csofht2npfDE",
    "outputId": "ff5471b2-bed2-43f2-959c-327a706527b6",
    "scrolled": true
   },
   "outputs": [
    {
     "name": "stdout",
     "output_type": "stream",
     "text": [
      "--2022-07-06 18:41:51--  http://download.tensorflow.org/models/object_detection/tf2/20200711/ssd_mobilenet_v2_fpnlite_320x320_coco17_tpu-8.tar.gz\n",
      "Resolving download.tensorflow.org (download.tensorflow.org)... 142.250.187.208, 2a00:1450:4009:81f::2010\n",
      "Connecting to download.tensorflow.org (download.tensorflow.org)|142.250.187.208|:80... connected.\n",
      "HTTP request sent, awaiting response... 200 OK\n",
      "Length: 20515344 (20M) [application/x-tar]\n",
      "Saving to: ‘ssd_mobilenet_v2_fpnlite_320x320_coco17_tpu-8.tar.gz’\n",
      "\n",
      "ssd_mobilenet_v2_fp 100%[===================>]  19.56M  1.63MB/s    in 12s     \n",
      "\n",
      "2022-07-06 18:42:08 (1.66 MB/s) - ‘ssd_mobilenet_v2_fpnlite_320x320_coco17_tpu-8.tar.gz’ saved [20515344/20515344]\n",
      "\n",
      "ssd_mobilenet_v2_fpnlite_320x320_coco17_tpu-8/\n",
      "ssd_mobilenet_v2_fpnlite_320x320_coco17_tpu-8/checkpoint/\n",
      "ssd_mobilenet_v2_fpnlite_320x320_coco17_tpu-8/checkpoint/ckpt-0.data-00000-of-00001\n",
      "ssd_mobilenet_v2_fpnlite_320x320_coco17_tpu-8/checkpoint/checkpoint\n",
      "ssd_mobilenet_v2_fpnlite_320x320_coco17_tpu-8/checkpoint/ckpt-0.index\n",
      "ssd_mobilenet_v2_fpnlite_320x320_coco17_tpu-8/pipeline.config\n",
      "ssd_mobilenet_v2_fpnlite_320x320_coco17_tpu-8/saved_model/\n",
      "ssd_mobilenet_v2_fpnlite_320x320_coco17_tpu-8/saved_model/saved_model.pb\n",
      "ssd_mobilenet_v2_fpnlite_320x320_coco17_tpu-8/saved_model/variables/\n",
      "ssd_mobilenet_v2_fpnlite_320x320_coco17_tpu-8/saved_model/variables/variables.data-00000-of-00001\n",
      "ssd_mobilenet_v2_fpnlite_320x320_coco17_tpu-8/saved_model/variables/variables.index\n"
     ]
    }
   ],
   "source": [
    "if os.name =='posix':\n",
    "    !wget {PRETRAINED_MODEL_URL}\n",
    "    !mv {PRETRAINED_MODEL_NAME+'.tar.gz'} {paths['PRETRAINED_MODEL_PATH']}\n",
    "    !cd {paths['PRETRAINED_MODEL_PATH']} && tar -zxvf {PRETRAINED_MODEL_NAME+'.tar.gz'}\n",
    "if os.name == 'nt':\n",
    "    wget.download(PRETRAINED_MODEL_URL)\n",
    "    !move {PRETRAINED_MODEL_NAME+'.tar.gz'} {paths['PRETRAINED_MODEL_PATH']}\n",
    "    !cd {paths['PRETRAINED_MODEL_PATH']} && tar -zxvf {PRETRAINED_MODEL_NAME+'.tar.gz'}"
   ]
  },
  {
   "cell_type": "markdown",
   "metadata": {
    "id": "M5KJTnkfpfDC"
   },
   "source": [
    "# 2. Create Label Map"
   ]
  },
  {
   "cell_type": "code",
   "execution_count": 18,
   "metadata": {
    "id": "p1BVDWo7pfDC"
   },
   "outputs": [],
   "source": [
    "labels = [{'name':'hello', 'id':1}, {'name':'yes', 'id':2}, {'name':'no', 'id':3}, {'name':'thanks', 'id':4}, {'name':'iloveyou', 'id':5}, {'name':'please', 'id':6}]\n",
    "\n",
    "with open(files['LABELMAP'], 'w') as f:\n",
    "    for label in labels:\n",
    "        f.write('item { \\n')\n",
    "        f.write('\\tname:\\'{}\\'\\n'.format(label['name']))\n",
    "        f.write('\\tid:{}\\n'.format(label['id']))\n",
    "        f.write('}\\n')"
   ]
  },
  {
   "cell_type": "markdown",
   "metadata": {
    "id": "C88zyVELpfDC"
   },
   "source": [
    "# 3. Create TF records"
   ]
  },
  {
   "cell_type": "code",
   "execution_count": 19,
   "metadata": {
    "colab": {
     "base_uri": "https://localhost:8080/"
    },
    "id": "kvf5WccwrFGq",
    "outputId": "49902aeb-0bd7-4298-e1a0-5b4a64eb2064"
   },
   "outputs": [],
   "source": [
    "# OPTIONAL IF RUNNING ON COLAB\n",
    "ARCHIVE_FILES = os.path.join(paths['IMAGE_PATH'], 'archive.tar.gz')\n",
    "if os.path.exists(ARCHIVE_FILES):\n",
    "  !tar -zxvf {ARCHIVE_FILES}"
   ]
  },
  {
   "cell_type": "code",
   "execution_count": 20,
   "metadata": {
    "colab": {
     "base_uri": "https://localhost:8080/"
    },
    "id": "KWpb_BVUpfDD",
    "outputId": "56ce2a3f-3933-4ee6-8a9d-d5ec65f7d73c"
   },
   "outputs": [],
   "source": [
    "if not os.path.exists(files['TF_RECORD_SCRIPT']):\n",
    "    !git clone https://github.com/nicknochnack/GenerateTFRecord {paths['SCRIPTS_PATH']}"
   ]
  },
  {
   "cell_type": "code",
   "execution_count": 21,
   "metadata": {
    "colab": {
     "base_uri": "https://localhost:8080/"
    },
    "id": "UPFToGZqpfDD",
    "outputId": "0ebb456f-aadc-4a1f-96e6-fbfec1923e1c"
   },
   "outputs": [
    {
     "name": "stdout",
     "output_type": "stream",
     "text": [
      "Successfully created the TFRecord file: Tensorflow/workspace/annotations/train.record\n",
      "Successfully created the TFRecord file: Tensorflow/workspace/annotations/test.record\n"
     ]
    }
   ],
   "source": [
    "!python {files['TF_RECORD_SCRIPT']} -x {os.path.join(paths['IMAGE_PATH'], 'train')} -l {files['LABELMAP']} -o {os.path.join(paths['ANNOTATION_PATH'], 'train.record')} \n",
    "!python {files['TF_RECORD_SCRIPT']} -x {os.path.join(paths['IMAGE_PATH'], 'test')} -l {files['LABELMAP']} -o {os.path.join(paths['ANNOTATION_PATH'], 'test.record')} "
   ]
  },
  {
   "cell_type": "code",
   "execution_count": 22,
   "metadata": {},
   "outputs": [
    {
     "name": "stdout",
     "output_type": "stream",
     "text": [
      "Defaulting to user installation because normal site-packages is not writeable\n",
      "Requirement already satisfied: pytz in /usr/lib/python3.8/site-packages (2020.5)\n"
     ]
    }
   ],
   "source": [
    "!pip install pytz\n"
   ]
  },
  {
   "cell_type": "markdown",
   "metadata": {
    "id": "qT4QU7pLpfDE"
   },
   "source": [
    "# 4. Copy Model Config to Training Folder"
   ]
  },
  {
   "cell_type": "code",
   "execution_count": 23,
   "metadata": {
    "id": "cOjuTFbwpfDF"
   },
   "outputs": [],
   "source": [
    "if os.name =='posix':\n",
    "    !cp {os.path.join(paths['PRETRAINED_MODEL_PATH'], PRETRAINED_MODEL_NAME, 'pipeline.config')} {os.path.join(paths['CHECKPOINT_PATH'])}\n",
    "if os.name == 'nt':\n",
    "    !copy {os.path.join(paths['PRETRAINED_MODEL_PATH'], PRETRAINED_MODEL_NAME, 'pipeline.config')} {os.path.join(paths['CHECKPOINT_PATH'])}"
   ]
  },
  {
   "cell_type": "markdown",
   "metadata": {
    "id": "Ga8gpNslpfDF"
   },
   "source": [
    "# 5. Update Config For Transfer Learning"
   ]
  },
  {
   "cell_type": "code",
   "execution_count": 24,
   "metadata": {
    "id": "Z9hRrO_ppfDF",
    "scrolled": false
   },
   "outputs": [
    {
     "name": "stderr",
     "output_type": "stream",
     "text": [
      "2022-07-06 18:42:16.260168: W tensorflow/stream_executor/platform/default/dso_loader.cc:64] Could not load dynamic library 'libcudart.so.11.0'; dlerror: libcudart.so.11.0: cannot open shared object file: No such file or directory\n",
      "2022-07-06 18:42:16.260194: I tensorflow/stream_executor/cuda/cudart_stub.cc:29] Ignore above cudart dlerror if you do not have a GPU set up on your machine.\n"
     ]
    }
   ],
   "source": [
    "import tensorflow as tf\n",
    "from object_detection.utils import config_util\n",
    "from object_detection.protos import pipeline_pb2\n",
    "from google.protobuf import text_format"
   ]
  },
  {
   "cell_type": "code",
   "execution_count": 25,
   "metadata": {
    "id": "c2A0mn4ipfDF"
   },
   "outputs": [],
   "source": [
    "config = config_util.get_configs_from_pipeline_file(files['PIPELINE_CONFIG'])"
   ]
  },
  {
   "cell_type": "code",
   "execution_count": 26,
   "metadata": {
    "colab": {
     "base_uri": "https://localhost:8080/"
    },
    "id": "uQA13-afpfDF",
    "outputId": "907496a4-a39d-4b13-8c2c-e5978ecb1f10"
   },
   "outputs": [
    {
     "data": {
      "text/plain": [
       "{'model': ssd {\n",
       "   num_classes: 90\n",
       "   image_resizer {\n",
       "     fixed_shape_resizer {\n",
       "       height: 320\n",
       "       width: 320\n",
       "     }\n",
       "   }\n",
       "   feature_extractor {\n",
       "     type: \"ssd_mobilenet_v2_fpn_keras\"\n",
       "     depth_multiplier: 1.0\n",
       "     min_depth: 16\n",
       "     conv_hyperparams {\n",
       "       regularizer {\n",
       "         l2_regularizer {\n",
       "           weight: 3.9999998989515007e-05\n",
       "         }\n",
       "       }\n",
       "       initializer {\n",
       "         random_normal_initializer {\n",
       "           mean: 0.0\n",
       "           stddev: 0.009999999776482582\n",
       "         }\n",
       "       }\n",
       "       activation: RELU_6\n",
       "       batch_norm {\n",
       "         decay: 0.996999979019165\n",
       "         scale: true\n",
       "         epsilon: 0.0010000000474974513\n",
       "       }\n",
       "     }\n",
       "     use_depthwise: true\n",
       "     override_base_feature_extractor_hyperparams: true\n",
       "     fpn {\n",
       "       min_level: 3\n",
       "       max_level: 7\n",
       "       additional_layer_depth: 128\n",
       "     }\n",
       "   }\n",
       "   box_coder {\n",
       "     faster_rcnn_box_coder {\n",
       "       y_scale: 10.0\n",
       "       x_scale: 10.0\n",
       "       height_scale: 5.0\n",
       "       width_scale: 5.0\n",
       "     }\n",
       "   }\n",
       "   matcher {\n",
       "     argmax_matcher {\n",
       "       matched_threshold: 0.5\n",
       "       unmatched_threshold: 0.5\n",
       "       ignore_thresholds: false\n",
       "       negatives_lower_than_unmatched: true\n",
       "       force_match_for_each_row: true\n",
       "       use_matmul_gather: true\n",
       "     }\n",
       "   }\n",
       "   similarity_calculator {\n",
       "     iou_similarity {\n",
       "     }\n",
       "   }\n",
       "   box_predictor {\n",
       "     weight_shared_convolutional_box_predictor {\n",
       "       conv_hyperparams {\n",
       "         regularizer {\n",
       "           l2_regularizer {\n",
       "             weight: 3.9999998989515007e-05\n",
       "           }\n",
       "         }\n",
       "         initializer {\n",
       "           random_normal_initializer {\n",
       "             mean: 0.0\n",
       "             stddev: 0.009999999776482582\n",
       "           }\n",
       "         }\n",
       "         activation: RELU_6\n",
       "         batch_norm {\n",
       "           decay: 0.996999979019165\n",
       "           scale: true\n",
       "           epsilon: 0.0010000000474974513\n",
       "         }\n",
       "       }\n",
       "       depth: 128\n",
       "       num_layers_before_predictor: 4\n",
       "       kernel_size: 3\n",
       "       class_prediction_bias_init: -4.599999904632568\n",
       "       share_prediction_tower: true\n",
       "       use_depthwise: true\n",
       "     }\n",
       "   }\n",
       "   anchor_generator {\n",
       "     multiscale_anchor_generator {\n",
       "       min_level: 3\n",
       "       max_level: 7\n",
       "       anchor_scale: 4.0\n",
       "       aspect_ratios: 1.0\n",
       "       aspect_ratios: 2.0\n",
       "       aspect_ratios: 0.5\n",
       "       scales_per_octave: 2\n",
       "     }\n",
       "   }\n",
       "   post_processing {\n",
       "     batch_non_max_suppression {\n",
       "       score_threshold: 9.99999993922529e-09\n",
       "       iou_threshold: 0.6000000238418579\n",
       "       max_detections_per_class: 100\n",
       "       max_total_detections: 100\n",
       "       use_static_shapes: false\n",
       "     }\n",
       "     score_converter: SIGMOID\n",
       "   }\n",
       "   normalize_loss_by_num_matches: true\n",
       "   loss {\n",
       "     localization_loss {\n",
       "       weighted_smooth_l1 {\n",
       "       }\n",
       "     }\n",
       "     classification_loss {\n",
       "       weighted_sigmoid_focal {\n",
       "         gamma: 2.0\n",
       "         alpha: 0.25\n",
       "       }\n",
       "     }\n",
       "     classification_weight: 1.0\n",
       "     localization_weight: 1.0\n",
       "   }\n",
       "   encode_background_as_zeros: true\n",
       "   normalize_loc_loss_by_codesize: true\n",
       "   inplace_batchnorm_update: true\n",
       "   freeze_batchnorm: false\n",
       " },\n",
       " 'train_config': batch_size: 128\n",
       " data_augmentation_options {\n",
       "   random_horizontal_flip {\n",
       "   }\n",
       " }\n",
       " data_augmentation_options {\n",
       "   random_crop_image {\n",
       "     min_object_covered: 0.0\n",
       "     min_aspect_ratio: 0.75\n",
       "     max_aspect_ratio: 3.0\n",
       "     min_area: 0.75\n",
       "     max_area: 1.0\n",
       "     overlap_thresh: 0.0\n",
       "   }\n",
       " }\n",
       " sync_replicas: true\n",
       " optimizer {\n",
       "   momentum_optimizer {\n",
       "     learning_rate {\n",
       "       cosine_decay_learning_rate {\n",
       "         learning_rate_base: 0.07999999821186066\n",
       "         total_steps: 50000\n",
       "         warmup_learning_rate: 0.026666000485420227\n",
       "         warmup_steps: 1000\n",
       "       }\n",
       "     }\n",
       "     momentum_optimizer_value: 0.8999999761581421\n",
       "   }\n",
       "   use_moving_average: false\n",
       " }\n",
       " fine_tune_checkpoint: \"PATH_TO_BE_CONFIGURED\"\n",
       " num_steps: 50000\n",
       " startup_delay_steps: 0.0\n",
       " replicas_to_aggregate: 8\n",
       " max_number_of_boxes: 100\n",
       " unpad_groundtruth_tensors: false\n",
       " fine_tune_checkpoint_type: \"classification\"\n",
       " fine_tune_checkpoint_version: V2,\n",
       " 'train_input_config': label_map_path: \"PATH_TO_BE_CONFIGURED\"\n",
       " tf_record_input_reader {\n",
       "   input_path: \"PATH_TO_BE_CONFIGURED\"\n",
       " },\n",
       " 'eval_config': metrics_set: \"coco_detection_metrics\"\n",
       " use_moving_averages: false,\n",
       " 'eval_input_configs': [label_map_path: \"PATH_TO_BE_CONFIGURED\"\n",
       " shuffle: false\n",
       " num_epochs: 1\n",
       " tf_record_input_reader {\n",
       "   input_path: \"PATH_TO_BE_CONFIGURED\"\n",
       " }\n",
       " ],\n",
       " 'eval_input_config': label_map_path: \"PATH_TO_BE_CONFIGURED\"\n",
       " shuffle: false\n",
       " num_epochs: 1\n",
       " tf_record_input_reader {\n",
       "   input_path: \"PATH_TO_BE_CONFIGURED\"\n",
       " }}"
      ]
     },
     "execution_count": 26,
     "metadata": {},
     "output_type": "execute_result"
    }
   ],
   "source": [
    "config"
   ]
  },
  {
   "cell_type": "code",
   "execution_count": 27,
   "metadata": {
    "id": "9vK5lotDpfDF"
   },
   "outputs": [],
   "source": [
    "pipeline_config = pipeline_pb2.TrainEvalPipelineConfig()\n",
    "with tf.io.gfile.GFile(files['PIPELINE_CONFIG'], \"r\") as f:                                                                                                                                                                                                                     \n",
    "    proto_str = f.read()                                                                                                                                                                                                                                          \n",
    "    text_format.Merge(proto_str, pipeline_config)  "
   ]
  },
  {
   "cell_type": "code",
   "execution_count": 28,
   "metadata": {
    "id": "rP43Ph0JpfDG"
   },
   "outputs": [],
   "source": [
    "pipeline_config.model.ssd.num_classes = len(labels)\n",
    "pipeline_config.train_config.batch_size = 4\n",
    "pipeline_config.train_config.fine_tune_checkpoint = os.path.join(paths['PRETRAINED_MODEL_PATH'], PRETRAINED_MODEL_NAME, 'checkpoint', 'ckpt-0')\n",
    "pipeline_config.train_config.fine_tune_checkpoint_type = \"detection\"\n",
    "pipeline_config.train_input_reader.label_map_path= files['LABELMAP']\n",
    "pipeline_config.train_input_reader.tf_record_input_reader.input_path[:] = [os.path.join(paths['ANNOTATION_PATH'], 'train.record')]\n",
    "pipeline_config.eval_input_reader[0].label_map_path = files['LABELMAP']\n",
    "pipeline_config.eval_input_reader[0].tf_record_input_reader.input_path[:] = [os.path.join(paths['ANNOTATION_PATH'], 'test.record')]"
   ]
  },
  {
   "cell_type": "code",
   "execution_count": 29,
   "metadata": {
    "id": "oJvfgwWqpfDG"
   },
   "outputs": [],
   "source": [
    "config_text = text_format.MessageToString(pipeline_config)                                                                                                                                                                                                        \n",
    "with tf.io.gfile.GFile(files['PIPELINE_CONFIG'], \"wb\") as f:                                                                                                                                                                                                                     \n",
    "    f.write(config_text)   "
   ]
  },
  {
   "cell_type": "markdown",
   "metadata": {
    "id": "Zr3ON7xMpfDG"
   },
   "source": [
    "# 6. Train the model"
   ]
  },
  {
   "cell_type": "code",
   "execution_count": 30,
   "metadata": {
    "id": "B-Y2UQmQpfDG"
   },
   "outputs": [],
   "source": [
    "TRAINING_SCRIPT = os.path.join(paths['APIMODEL_PATH'], 'research', 'object_detection', 'model_main_tf2.py')"
   ]
  },
  {
   "cell_type": "code",
   "execution_count": 31,
   "metadata": {
    "id": "jMP2XDfQpfDH"
   },
   "outputs": [],
   "source": [
    "command = \"python {} --model_dir={} --pipeline_config_path={} --num_train_steps=10000\".format(TRAINING_SCRIPT, paths['CHECKPOINT_PATH'],files['PIPELINE_CONFIG'])"
   ]
  },
  {
   "cell_type": "code",
   "execution_count": 32,
   "metadata": {
    "colab": {
     "base_uri": "https://localhost:8080/"
    },
    "id": "A4OXXi-ApfDH",
    "outputId": "117a0e83-012b-466e-b7a6-ccaa349ac5ab"
   },
   "outputs": [
    {
     "name": "stdout",
     "output_type": "stream",
     "text": [
      "python Tensorflow/models/research/object_detection/model_main_tf2.py --model_dir=Tensorflow/workspace/models/my_ssd_mobnet --pipeline_config_path=Tensorflow/workspace/models/my_ssd_mobnet/pipeline.config --num_train_steps=10000\n"
     ]
    }
   ],
   "source": [
    "print(command)"
   ]
  },
  {
   "cell_type": "code",
   "execution_count": 33,
   "metadata": {
    "colab": {
     "base_uri": "https://localhost:8080/"
    },
    "id": "i3ZsJR-qpfDH",
    "outputId": "cabec5e1-45e6-4f2f-d9cf-297d9c1d0225"
   },
   "outputs": [],
   "source": [
    "!{command}"
   ]
  },
  {
   "cell_type": "markdown",
   "metadata": {
    "id": "4_YRZu7npfDH"
   },
   "source": [
    "# 7. Evaluate the Model"
   ]
  },
  {
   "cell_type": "code",
   "execution_count": 34,
   "metadata": {
    "id": "80L7-fdPpfDH"
   },
   "outputs": [],
   "source": [
    "command = \"python {} --model_dir={} --pipeline_config_path={} --checkpoint_dir={}\".format(TRAINING_SCRIPT, paths['CHECKPOINT_PATH'],files['PIPELINE_CONFIG'], paths['CHECKPOINT_PATH'])"
   ]
  },
  {
   "cell_type": "code",
   "execution_count": 35,
   "metadata": {
    "colab": {
     "base_uri": "https://localhost:8080/"
    },
    "id": "lYsgEPx9pfDH",
    "outputId": "8632d48b-91d2-45d9-bcb8-c1b172bf6eed"
   },
   "outputs": [
    {
     "name": "stdout",
     "output_type": "stream",
     "text": [
      "python Tensorflow/models/research/object_detection/model_main_tf2.py --model_dir=Tensorflow/workspace/models/my_ssd_mobnet --pipeline_config_path=Tensorflow/workspace/models/my_ssd_mobnet/pipeline.config --checkpoint_dir=Tensorflow/workspace/models/my_ssd_mobnet\n"
     ]
    }
   ],
   "source": [
    "print(command)"
   ]
  },
  {
   "cell_type": "code",
   "execution_count": 36,
   "metadata": {
    "id": "lqTV2jGBpfDH"
   },
   "outputs": [],
   "source": [
    "!{command}"
   ]
  },
  {
   "cell_type": "markdown",
   "metadata": {
    "id": "orvRk02UpfDI"
   },
   "source": [
    "# 8. Load Train Model From Checkpoint"
   ]
  },
  {
   "cell_type": "code",
   "execution_count": 37,
   "metadata": {
    "id": "8TYk4_oIpfDI"
   },
   "outputs": [],
   "source": [
    "import os\n",
    "import tensorflow as tf\n",
    "from object_detection.utils import label_map_util\n",
    "from object_detection.utils import visualization_utils as viz_utils\n",
    "from object_detection.builders import model_builder\n",
    "from object_detection.utils import config_util"
   ]
  },
  {
   "cell_type": "code",
   "execution_count": 38,
   "metadata": {
    "id": "tDnQg-cYpfDI"
   },
   "outputs": [
    {
     "name": "stderr",
     "output_type": "stream",
     "text": [
      "2022-07-06 18:42:20.220818: W tensorflow/stream_executor/platform/default/dso_loader.cc:64] Could not load dynamic library 'libcuda.so.1'; dlerror: libcuda.so.1: cannot open shared object file: No such file or directory\n",
      "2022-07-06 18:42:20.220861: W tensorflow/stream_executor/cuda/cuda_driver.cc:269] failed call to cuInit: UNKNOWN ERROR (303)\n",
      "2022-07-06 18:42:20.220894: I tensorflow/stream_executor/cuda/cuda_diagnostics.cc:156] kernel driver does not appear to be running on this host (localhost.localdomain): /proc/driver/nvidia/version does not exist\n",
      "2022-07-06 18:42:20.221154: I tensorflow/core/platform/cpu_feature_guard.cc:193] This TensorFlow binary is optimized with oneAPI Deep Neural Network Library (oneDNN) to use the following CPU instructions in performance-critical operations:  AVX2 FMA\n",
      "To enable them in other operations, rebuild TensorFlow with the appropriate compiler flags.\n"
     ]
    }
   ],
   "source": [
    "# Load pipeline config and build a detection model\n",
    "configs = config_util.get_configs_from_pipeline_file(files['PIPELINE_CONFIG'])\n",
    "detection_model = model_builder.build(model_config=configs['model'], is_training=False)\n",
    "\n",
    "# Restore checkpoint\n",
    "ckpt = tf.compat.v2.train.Checkpoint(model=detection_model)\n",
    "ckpt.restore(os.path.join(paths['CHECKPOINT_PATH'], 'ckpt-11')).expect_partial()\n",
    "\n",
    "@tf.function\n",
    "def detect_fn(image):\n",
    "    image, shapes = detection_model.preprocess(image)\n",
    "    prediction_dict = detection_model.predict(image, shapes)\n",
    "    detections = detection_model.postprocess(prediction_dict, shapes)\n",
    "    return detections"
   ]
  },
  {
   "cell_type": "markdown",
   "metadata": {
    "id": "0EmsmbBZpfDI"
   },
   "source": [
    "# 9. Detect from an Image"
   ]
  },
  {
   "cell_type": "code",
   "execution_count": 39,
   "metadata": {
    "id": "Y_MKiuZ4pfDI"
   },
   "outputs": [],
   "source": [
    "import cv2 \n",
    "import numpy as np\n",
    "from matplotlib import pyplot as plt\n",
    "%matplotlib inline"
   ]
  },
  {
   "cell_type": "code",
   "execution_count": 40,
   "metadata": {
    "id": "cBDbIhNapfDI"
   },
   "outputs": [],
   "source": [
    "category_index = label_map_util.create_category_index_from_labelmap(files['LABELMAP'])"
   ]
  },
  {
   "cell_type": "code",
   "execution_count": 41,
   "metadata": {
    "id": "Lx3crOhOzITB"
   },
   "outputs": [],
   "source": [
    "IMAGE_PATH = os.path.join(paths['IMAGE_PATH'], 'test', 'hello.a386cc76-810c-11ec-8938-d14f6f1810bb.jpg')"
   ]
  },
  {
   "cell_type": "code",
   "execution_count": 42,
   "metadata": {
    "colab": {
     "base_uri": "https://localhost:8080/",
     "height": 269
    },
    "id": "Tpzn1SMry1yK",
    "outputId": "c392a2c5-10fe-4fc4-9998-a1d4c7db2bd3"
   },
   "outputs": [],
   "source": [
    "#img = cv2.imread(IMAGE_PATH)\n",
    "#image_np = np.array(img)\n",
    "\n",
    "#input_tensor = tf.convert_to_tensor(np.expand_dims(image_np, 0), dtype=tf.float32)\n",
    "#detections = detect_fn(input_tensor)\n",
    "\n",
    "#num_detections = int(detections.pop('num_detections'))\n",
    "#detections = {key: value[0, :num_detections].numpy()\n",
    "#              for key, value in detections.items()}\n",
    "#detections['num_detections'] = num_detections\n",
    "\n",
    "## detection_classes should be ints.\n",
    "#detections['detection_classes'] = detections['detection_classes'].astype(np.int64)\n",
    "\n",
    "#label_id_offset = 1\n",
    "#image_np_with_detections = image_np.copy()\n",
    "\n",
    "#viz_utils.visualize_boxes_and_labels_on_image_array(\n",
    "#            image_np_with_detections,\n",
    "#            detections['detection_boxes'],\n",
    "#            detections['detection_classes']+label_id_offset,\n",
    "#            detections['detection_scores'],\n",
    "#            category_index,\n",
    "#            use_normalized_coordinates=True,\n",
    "#            max_boxes_to_draw=5,\n",
    "#            min_score_thresh=.8,\n",
    "#            agnostic_mode=False)\n",
    "\n",
    "#plt.imshow(cv2.cvtColor(image_np_with_detections, cv2.COLOR_BGR2RGB))\n",
    "#plt.show()"
   ]
  },
  {
   "cell_type": "markdown",
   "metadata": {
    "id": "IsNAaYAo0WVL"
   },
   "source": [
    "# 10. Real Time Detections from your Webcam"
   ]
  },
  {
   "cell_type": "code",
   "execution_count": 43,
   "metadata": {},
   "outputs": [
    {
     "name": "stdout",
     "output_type": "stream",
     "text": [
      "Found existing installation: opencv-python-headless 4.6.0.66\n",
      "Uninstalling opencv-python-headless-4.6.0.66:\n",
      "  Successfully uninstalled opencv-python-headless-4.6.0.66\n"
     ]
    }
   ],
   "source": [
    "!pip uninstall opencv-python-headless -y"
   ]
  },
  {
   "cell_type": "code",
   "execution_count": 44,
   "metadata": {
    "id": "o_grs6OGpfDJ"
   },
   "outputs": [
    {
     "name": "stderr",
     "output_type": "stream",
     "text": [
      "[ WARN:0] global /home/Roleo/OpenCV/opencv-4.5.3/modules/videoio/src/cap_gstreamer.cpp (1081) open OpenCV | GStreamer warning: Cannot query video position: status=0, value=-1, duration=-1\n"
     ]
    }
   ],
   "source": [
    "cap = cv2.VideoCapture(0)\n",
    "width = int(cap.get(cv2.CAP_PROP_FRAME_WIDTH))\n",
    "height = int(cap.get(cv2.CAP_PROP_FRAME_HEIGHT))\n",
    "\n",
    "while cap.isOpened(): \n",
    "    ret, frame = cap.read()\n",
    "    image_np = np.array(frame)\n",
    "    \n",
    "    input_tensor = tf.convert_to_tensor(np.expand_dims(image_np, 0), dtype=tf.float32)\n",
    "    detections = detect_fn(input_tensor)\n",
    "    \n",
    "    num_detections = int(detections.pop('num_detections'))\n",
    "    detections = {key: value[0, :num_detections].numpy()\n",
    "                  for key, value in detections.items()}\n",
    "    detections['num_detections'] = num_detections\n",
    "\n",
    "    # detection_classes should be ints.\n",
    "    detections['detection_classes'] = detections['detection_classes'].astype(np.int64)\n",
    "\n",
    "    label_id_offset = 1\n",
    "    image_np_with_detections = image_np.copy()\n",
    "\n",
    "    viz_utils.visualize_boxes_and_labels_on_image_array(\n",
    "                image_np_with_detections,\n",
    "                detections['detection_boxes'],\n",
    "                detections['detection_classes']+label_id_offset,\n",
    "                detections['detection_scores'],\n",
    "                category_index,\n",
    "                use_normalized_coordinates=True,\n",
    "                max_boxes_to_draw=5,\n",
    "                min_score_thresh=.5,\n",
    "                agnostic_mode=False)\n",
    "\n",
    "    cv2.imshow('object detection',  cv2.resize(image_np_with_detections, (800, 600)))\n",
    "    \n",
    "    if cv2.waitKey(10) & 0xFF == ord('q'):\n",
    "        cap.release()\n",
    "        cv2.destroyAllWindows()\n",
    "        break"
   ]
  },
  {
   "cell_type": "markdown",
   "metadata": {
    "id": "rzlM4jt0pfDJ"
   },
   "source": [
    "# 10. Freezing the Graph"
   ]
  },
  {
   "cell_type": "code",
   "execution_count": 45,
   "metadata": {
    "id": "n4olHB2npfDJ"
   },
   "outputs": [],
   "source": [
    "FREEZE_SCRIPT = os.path.join(paths['APIMODEL_PATH'], 'research', 'object_detection', 'exporter_main_v2.py ')"
   ]
  },
  {
   "cell_type": "code",
   "execution_count": 46,
   "metadata": {
    "id": "0AjO93QDpfDJ"
   },
   "outputs": [],
   "source": [
    "command = \"python {} --input_type=image_tensor --pipeline_config_path={} --trained_checkpoint_dir={} --output_directory={}\".format(FREEZE_SCRIPT ,files['PIPELINE_CONFIG'], paths['CHECKPOINT_PATH'], paths['OUTPUT_PATH'])"
   ]
  },
  {
   "cell_type": "code",
   "execution_count": 47,
   "metadata": {
    "colab": {
     "base_uri": "https://localhost:8080/"
    },
    "id": "F6Lsp3tCpfDJ",
    "outputId": "c3828529-bf06-4df5-d7f3-145890ec3edd"
   },
   "outputs": [
    {
     "name": "stdout",
     "output_type": "stream",
     "text": [
      "python Tensorflow/models/research/object_detection/exporter_main_v2.py  --input_type=image_tensor --pipeline_config_path=Tensorflow/workspace/models/my_ssd_mobnet/pipeline.config --trained_checkpoint_dir=Tensorflow/workspace/models/my_ssd_mobnet --output_directory=Tensorflow/workspace/models/my_ssd_mobnet/export\n"
     ]
    }
   ],
   "source": [
    "print(command)"
   ]
  },
  {
   "cell_type": "markdown",
   "metadata": {
    "id": "wTPmdqaXpfDK"
   },
   "source": [
    "# 11. Conversion to TFJS"
   ]
  },
  {
   "cell_type": "code",
   "execution_count": 48,
   "metadata": {
    "colab": {
     "base_uri": "https://localhost:8080/"
    },
    "id": "gZ6UzY_fpfDK",
    "outputId": "0c84722e-1c2b-4002-d857-80827ade828a",
    "scrolled": true
   },
   "outputs": [
    {
     "name": "stdout",
     "output_type": "stream",
     "text": [
      "Defaulting to user installation because normal site-packages is not writeable\n",
      "Requirement already satisfied: tensorflowjs in /home/Roleo/.local/lib/python3.8/site-packages (3.18.0)\n",
      "Requirement already satisfied: six<2,>=1.12.0 in /usr/lib/python3.8/site-packages (from tensorflowjs) (1.14.0)\n",
      "Requirement already satisfied: tensorflow<3,>=2.1.0 in /home/Roleo/.local/lib/python3.8/site-packages (from tensorflowjs) (2.9.0)\n",
      "Requirement already satisfied: tensorflow-hub<0.13,>=0.7.0 in /home/Roleo/.local/lib/python3.8/site-packages (from tensorflowjs) (0.12.0)\n",
      "Collecting packaging~=20.9\n",
      "  Using cached packaging-20.9-py2.py3-none-any.whl (40 kB)\n",
      "Requirement already satisfied: pyparsing>=2.0.2 in /home/Roleo/.local/lib/python3.8/site-packages (from packaging~=20.9->tensorflowjs) (2.4.7)\n",
      "Requirement already satisfied: tensorboard<2.10,>=2.9 in /home/Roleo/.local/lib/python3.8/site-packages (from tensorflow<3,>=2.1.0->tensorflowjs) (2.9.1)\n",
      "Requirement already satisfied: numpy>=1.20 in /home/Roleo/.local/lib/python3.8/site-packages (from tensorflow<3,>=2.1.0->tensorflowjs) (1.22.4)\n",
      "Requirement already satisfied: h5py>=2.9.0 in /home/Roleo/.local/lib/python3.8/site-packages (from tensorflow<3,>=2.1.0->tensorflowjs) (3.7.0)\n",
      "Requirement already satisfied: absl-py>=1.0.0 in /home/Roleo/.local/lib/python3.8/site-packages (from tensorflow<3,>=2.1.0->tensorflowjs) (1.1.0)\n",
      "Requirement already satisfied: keras-preprocessing>=1.1.1 in /home/Roleo/.local/lib/python3.8/site-packages (from tensorflow<3,>=2.1.0->tensorflowjs) (1.1.2)\n",
      "Requirement already satisfied: keras<2.10.0,>=2.9.0rc0 in /home/Roleo/.local/lib/python3.8/site-packages (from tensorflow<3,>=2.1.0->tensorflowjs) (2.9.0)\n",
      "Requirement already satisfied: grpcio<2.0,>=1.24.3 in /home/Roleo/.local/lib/python3.8/site-packages (from tensorflow<3,>=2.1.0->tensorflowjs) (1.47.0)\n",
      "Requirement already satisfied: astunparse>=1.6.0 in /home/Roleo/.local/lib/python3.8/site-packages (from tensorflow<3,>=2.1.0->tensorflowjs) (1.6.3)\n",
      "Requirement already satisfied: tensorflow-io-gcs-filesystem>=0.23.1 in /home/Roleo/.local/lib/python3.8/site-packages (from tensorflow<3,>=2.1.0->tensorflowjs) (0.26.0)\n",
      "Requirement already satisfied: flatbuffers<2,>=1.12 in /home/Roleo/.local/lib/python3.8/site-packages (from tensorflow<3,>=2.1.0->tensorflowjs) (1.12)\n",
      "Requirement already satisfied: protobuf>=3.9.2 in /home/Roleo/.local/lib/python3.8/site-packages (from tensorflow<3,>=2.1.0->tensorflowjs) (3.19.4)\n",
      "Requirement already satisfied: setuptools in /usr/lib/python3.8/site-packages (from tensorflow<3,>=2.1.0->tensorflowjs) (41.6.0)\n",
      "Requirement already satisfied: termcolor>=1.1.0 in /home/Roleo/.local/lib/python3.8/site-packages (from tensorflow<3,>=2.1.0->tensorflowjs) (1.1.0)\n",
      "Requirement already satisfied: opt-einsum>=2.3.2 in /home/Roleo/.local/lib/python3.8/site-packages (from tensorflow<3,>=2.1.0->tensorflowjs) (3.3.0)\n",
      "Requirement already satisfied: typing-extensions>=3.6.6 in /home/Roleo/.local/lib/python3.8/site-packages (from tensorflow<3,>=2.1.0->tensorflowjs) (4.3.0)\n",
      "Requirement already satisfied: wrapt>=1.11.0 in /home/Roleo/.local/lib/python3.8/site-packages (from tensorflow<3,>=2.1.0->tensorflowjs) (1.14.1)\n",
      "Requirement already satisfied: libclang>=13.0.0 in /home/Roleo/.local/lib/python3.8/site-packages (from tensorflow<3,>=2.1.0->tensorflowjs) (14.0.1)\n",
      "Requirement already satisfied: tensorflow-estimator<2.10.0,>=2.9.0rc0 in /home/Roleo/.local/lib/python3.8/site-packages (from tensorflow<3,>=2.1.0->tensorflowjs) (2.9.0)\n",
      "Requirement already satisfied: google-pasta>=0.1.1 in /home/Roleo/.local/lib/python3.8/site-packages (from tensorflow<3,>=2.1.0->tensorflowjs) (0.2.0)\n",
      "Requirement already satisfied: gast<=0.4.0,>=0.2.1 in /home/Roleo/.local/lib/python3.8/site-packages (from tensorflow<3,>=2.1.0->tensorflowjs) (0.4.0)\n",
      "Requirement already satisfied: wheel<1.0,>=0.23.0 in /home/Roleo/.local/lib/python3.8/site-packages (from astunparse>=1.6.0->tensorflow<3,>=2.1.0->tensorflowjs) (0.37.1)\n",
      "Requirement already satisfied: google-auth<3,>=1.6.3 in /home/Roleo/.local/lib/python3.8/site-packages (from tensorboard<2.10,>=2.9->tensorflow<3,>=2.1.0->tensorflowjs) (2.9.0)\n",
      "Requirement already satisfied: requests<3,>=2.21.0 in /home/Roleo/.local/lib/python3.8/site-packages (from tensorboard<2.10,>=2.9->tensorflow<3,>=2.1.0->tensorflowjs) (2.28.1)\n",
      "Requirement already satisfied: tensorboard-plugin-wit>=1.6.0 in /home/Roleo/.local/lib/python3.8/site-packages (from tensorboard<2.10,>=2.9->tensorflow<3,>=2.1.0->tensorflowjs) (1.8.1)\n",
      "Requirement already satisfied: markdown>=2.6.8 in /home/Roleo/.local/lib/python3.8/site-packages (from tensorboard<2.10,>=2.9->tensorflow<3,>=2.1.0->tensorflowjs) (3.3.7)\n",
      "Requirement already satisfied: tensorboard-data-server<0.7.0,>=0.6.0 in /home/Roleo/.local/lib/python3.8/site-packages (from tensorboard<2.10,>=2.9->tensorflow<3,>=2.1.0->tensorflowjs) (0.6.1)\n",
      "Requirement already satisfied: werkzeug>=1.0.1 in /home/Roleo/.local/lib/python3.8/site-packages (from tensorboard<2.10,>=2.9->tensorflow<3,>=2.1.0->tensorflowjs) (2.1.2)\n",
      "Requirement already satisfied: google-auth-oauthlib<0.5,>=0.4.1 in /home/Roleo/.local/lib/python3.8/site-packages (from tensorboard<2.10,>=2.9->tensorflow<3,>=2.1.0->tensorflowjs) (0.4.6)\n",
      "Requirement already satisfied: rsa<5,>=3.1.4 in /home/Roleo/.local/lib/python3.8/site-packages (from google-auth<3,>=1.6.3->tensorboard<2.10,>=2.9->tensorflow<3,>=2.1.0->tensorflowjs) (4.8)\n",
      "Requirement already satisfied: pyasn1-modules>=0.2.1 in /home/Roleo/.local/lib/python3.8/site-packages (from google-auth<3,>=1.6.3->tensorboard<2.10,>=2.9->tensorflow<3,>=2.1.0->tensorflowjs) (0.2.8)\n",
      "Requirement already satisfied: cachetools<6.0,>=2.0.0 in /home/Roleo/.local/lib/python3.8/site-packages (from google-auth<3,>=1.6.3->tensorboard<2.10,>=2.9->tensorflow<3,>=2.1.0->tensorflowjs) (5.2.0)\n",
      "Requirement already satisfied: requests-oauthlib>=0.7.0 in /home/Roleo/.local/lib/python3.8/site-packages (from google-auth-oauthlib<0.5,>=0.4.1->tensorboard<2.10,>=2.9->tensorflow<3,>=2.1.0->tensorflowjs) (1.3.1)\n",
      "Requirement already satisfied: importlib-metadata>=4.4 in /home/Roleo/.local/lib/python3.8/site-packages (from markdown>=2.6.8->tensorboard<2.10,>=2.9->tensorflow<3,>=2.1.0->tensorflowjs) (4.12.0)\n",
      "Requirement already satisfied: certifi>=2017.4.17 in /home/Roleo/.local/lib/python3.8/site-packages (from requests<3,>=2.21.0->tensorboard<2.10,>=2.9->tensorflow<3,>=2.1.0->tensorflowjs) (2022.6.15)\n",
      "Requirement already satisfied: idna<4,>=2.5 in /usr/lib/python3.8/site-packages (from requests<3,>=2.21.0->tensorboard<2.10,>=2.9->tensorflow<3,>=2.1.0->tensorflowjs) (2.8)\n",
      "Requirement already satisfied: urllib3<1.27,>=1.21.1 in /usr/lib/python3.8/site-packages (from requests<3,>=2.21.0->tensorboard<2.10,>=2.9->tensorflow<3,>=2.1.0->tensorflowjs) (1.25.7)\n",
      "Requirement already satisfied: charset-normalizer<3,>=2 in /home/Roleo/.local/lib/python3.8/site-packages (from requests<3,>=2.21.0->tensorboard<2.10,>=2.9->tensorflow<3,>=2.1.0->tensorflowjs) (2.1.0)\n",
      "Requirement already satisfied: zipp>=0.5 in /home/Roleo/.local/lib/python3.8/site-packages (from importlib-metadata>=4.4->markdown>=2.6.8->tensorboard<2.10,>=2.9->tensorflow<3,>=2.1.0->tensorflowjs) (3.8.0)\n",
      "Requirement already satisfied: pyasn1<0.5.0,>=0.4.6 in /usr/lib/python3.8/site-packages (from pyasn1-modules>=0.2.1->google-auth<3,>=1.6.3->tensorboard<2.10,>=2.9->tensorflow<3,>=2.1.0->tensorflowjs) (0.4.8)\n",
      "Requirement already satisfied: oauthlib>=3.0.0 in /home/Roleo/.local/lib/python3.8/site-packages (from requests-oauthlib>=0.7.0->google-auth-oauthlib<0.5,>=0.4.1->tensorboard<2.10,>=2.9->tensorflow<3,>=2.1.0->tensorflowjs) (3.2.0)\n",
      "Installing collected packages: packaging\n",
      "Successfully installed packaging-20.9\n"
     ]
    }
   ],
   "source": [
    "!pip install tensorflowjs"
   ]
  },
  {
   "cell_type": "code",
   "execution_count": 49,
   "metadata": {
    "id": "0oxbVynHpfDK"
   },
   "outputs": [],
   "source": [
    "command = \"tensorflowjs_converter --input_format=tf_saved_model --output_node_names='detection_boxes,detection_classes,detection_features,detection_multiclass_scores,detection_scores,num_detections,raw_detection_boxes,raw_detection_scores' --output_format=tfjs_graph_model --signature_name=serving_default {} {}\".format(os.path.join(paths['OUTPUT_PATH'], 'saved_model'), paths['TFJS_PATH'])"
   ]
  },
  {
   "cell_type": "code",
   "execution_count": 50,
   "metadata": {
    "colab": {
     "base_uri": "https://localhost:8080/"
    },
    "id": "DB2AGNmJpfDK",
    "outputId": "fbc9f747-f511-47e8-df8f-5ea65cef0374"
   },
   "outputs": [
    {
     "name": "stdout",
     "output_type": "stream",
     "text": [
      "tensorflowjs_converter --input_format=tf_saved_model --output_node_names='detection_boxes,detection_classes,detection_features,detection_multiclass_scores,detection_scores,num_detections,raw_detection_boxes,raw_detection_scores' --output_format=tfjs_graph_model --signature_name=serving_default Tensorflow/workspace/models/my_ssd_mobnet/export/saved_model Tensorflow/workspace/models/my_ssd_mobnet/tfjsexport\n"
     ]
    }
   ],
   "source": [
    "print(command)"
   ]
  },
  {
   "cell_type": "code",
   "execution_count": 51,
   "metadata": {
    "colab": {
     "base_uri": "https://localhost:8080/"
    },
    "id": "K7rfT4-hpfDK",
    "outputId": "532707fd-6feb-4bc6-84a3-325b5d16303c"
   },
   "outputs": [
    {
     "name": "stdout",
     "output_type": "stream",
     "text": [
      "2022-07-06 18:44:19.831843: W tensorflow/stream_executor/platform/default/dso_loader.cc:64] Could not load dynamic library 'libcudart.so.11.0'; dlerror: libcudart.so.11.0: cannot open shared object file: No such file or directory; LD_LIBRARY_PATH: /usr/local/lib/python3.8/site-packages/cv2/../../../../lib64:\n",
      "2022-07-06 18:44:19.831879: I tensorflow/stream_executor/cuda/cudart_stub.cc:29] Ignore above cudart dlerror if you do not have a GPU set up on your machine.\n",
      "2022-07-06 18:44:23.216241: W tensorflow/stream_executor/platform/default/dso_loader.cc:64] Could not load dynamic library 'libcuda.so.1'; dlerror: libcuda.so.1: cannot open shared object file: No such file or directory; LD_LIBRARY_PATH: /usr/local/lib/python3.8/site-packages/cv2/../../../../lib64:\n",
      "2022-07-06 18:44:23.216282: W tensorflow/stream_executor/cuda/cuda_driver.cc:269] failed call to cuInit: UNKNOWN ERROR (303)\n",
      "2022-07-06 18:44:23.216312: I tensorflow/stream_executor/cuda/cuda_diagnostics.cc:156] kernel driver does not appear to be running on this host (localhost.localdomain): /proc/driver/nvidia/version does not exist\n",
      "2022-07-06 18:44:23.216520: I tensorflow/core/platform/cpu_feature_guard.cc:193] This TensorFlow binary is optimized with oneAPI Deep Neural Network Library (oneDNN) to use the following CPU instructions in performance-critical operations:  AVX2 FMA\n",
      "To enable them in other operations, rebuild TensorFlow with the appropriate compiler flags.\n",
      "2022-07-06 18:44:35.395564: I tensorflow/core/grappler/devices.cc:66] Number of eligible GPUs (core count >= 8, compute capability >= 0.0): 0\n",
      "2022-07-06 18:44:35.395744: I tensorflow/core/grappler/clusters/single_machine.cc:358] Starting new session\n",
      "Writing weight file Tensorflow/workspace/models/my_ssd_mobnet/tfjsexport/model.json...\n"
     ]
    }
   ],
   "source": [
    "!{command}"
   ]
  },
  {
   "cell_type": "code",
   "execution_count": 52,
   "metadata": {
    "id": "o8_hm-itpfDK"
   },
   "outputs": [],
   "source": [
    "# Test Code: https://github.com/nicknochnack/RealTimeSignLanguageDetectionwithTFJS"
   ]
  },
  {
   "cell_type": "markdown",
   "metadata": {
    "id": "VtUw73FHpfDK"
   },
   "source": [
    "# 12. Conversion to TFLite"
   ]
  },
  {
   "cell_type": "code",
   "execution_count": 53,
   "metadata": {
    "id": "XviMtewLpfDK"
   },
   "outputs": [],
   "source": [
    "TFLITE_SCRIPT = os.path.join(paths['APIMODEL_PATH'], 'research', 'object_detection', 'export_tflite_graph_tf2.py ')"
   ]
  },
  {
   "cell_type": "code",
   "execution_count": 54,
   "metadata": {
    "id": "us86cjC4pfDL"
   },
   "outputs": [],
   "source": [
    "command = \"python {} --pipeline_config_path={} --trained_checkpoint_dir={} --output_directory={}\".format(TFLITE_SCRIPT ,files['PIPELINE_CONFIG'], paths['CHECKPOINT_PATH'], paths['TFLITE_PATH'])"
   ]
  },
  {
   "cell_type": "code",
   "execution_count": 55,
   "metadata": {
    "colab": {
     "base_uri": "https://localhost:8080/"
    },
    "id": "n1r5YO3rpfDL",
    "outputId": "5fcdf7a4-eee2-4365-f1ca-1751968379ea"
   },
   "outputs": [
    {
     "name": "stdout",
     "output_type": "stream",
     "text": [
      "python Tensorflow/models/research/object_detection/export_tflite_graph_tf2.py  --pipeline_config_path=Tensorflow/workspace/models/my_ssd_mobnet/pipeline.config --trained_checkpoint_dir=Tensorflow/workspace/models/my_ssd_mobnet --output_directory=Tensorflow/workspace/models/my_ssd_mobnet/tfliteexport\n"
     ]
    }
   ],
   "source": [
    "print(command)"
   ]
  },
  {
   "cell_type": "code",
   "execution_count": 56,
   "metadata": {
    "colab": {
     "base_uri": "https://localhost:8080/"
    },
    "id": "I-xWpHN8pfDL",
    "outputId": "7f6bacd8-d077-43b5-c131-5b081fba24a4"
   },
   "outputs": [
    {
     "name": "stdout",
     "output_type": "stream",
     "text": [
      "2022-07-06 18:44:54.661832: W tensorflow/stream_executor/platform/default/dso_loader.cc:64] Could not load dynamic library 'libcudart.so.11.0'; dlerror: libcudart.so.11.0: cannot open shared object file: No such file or directory; LD_LIBRARY_PATH: /usr/local/lib/python3.8/site-packages/cv2/../../../../lib64:\n",
      "2022-07-06 18:44:54.661864: I tensorflow/stream_executor/cuda/cudart_stub.cc:29] Ignore above cudart dlerror if you do not have a GPU set up on your machine.\n",
      "2022-07-06 18:44:57.700223: W tensorflow/stream_executor/platform/default/dso_loader.cc:64] Could not load dynamic library 'libcuda.so.1'; dlerror: libcuda.so.1: cannot open shared object file: No such file or directory; LD_LIBRARY_PATH: /usr/local/lib/python3.8/site-packages/cv2/../../../../lib64:\n",
      "2022-07-06 18:44:57.700259: W tensorflow/stream_executor/cuda/cuda_driver.cc:269] failed call to cuInit: UNKNOWN ERROR (303)\n",
      "2022-07-06 18:44:57.700300: I tensorflow/stream_executor/cuda/cuda_diagnostics.cc:156] kernel driver does not appear to be running on this host (localhost.localdomain): /proc/driver/nvidia/version does not exist\n",
      "2022-07-06 18:44:57.706690: I tensorflow/core/platform/cpu_feature_guard.cc:193] This TensorFlow binary is optimized with oneAPI Deep Neural Network Library (oneDNN) to use the following CPU instructions in performance-critical operations:  AVX2 FMA\n",
      "To enable them in other operations, rebuild TensorFlow with the appropriate compiler flags.\n",
      "2022-07-06 18:45:05.257098: I tensorflow/compiler/mlir/mlir_graph_optimization_pass.cc:354] MLIR V1 optimization pass is not enabled\n",
      "WARNING:tensorflow:Skipping full serialization of Keras layer <object_detection.meta_architectures.ssd_meta_arch.SSDMetaArch object at 0x7fd7dc16e5b0>, because it is not built.\n",
      "W0706 18:45:10.366678 140567432812352 save_impl.py:71] Skipping full serialization of Keras layer <object_detection.meta_architectures.ssd_meta_arch.SSDMetaArch object at 0x7fd7dc16e5b0>, because it is not built.\n",
      "WARNING:tensorflow:Skipping full serialization of Keras layer <keras.layers.convolutional.separable_conv2d.SeparableConv2D object at 0x7fd7dc100580>, because it is not built.\n",
      "W0706 18:45:10.623689 140567432812352 save_impl.py:71] Skipping full serialization of Keras layer <keras.layers.convolutional.separable_conv2d.SeparableConv2D object at 0x7fd7dc100580>, because it is not built.\n",
      "WARNING:tensorflow:Skipping full serialization of Keras layer <object_detection.core.freezable_batch_norm.FreezableBatchNorm object at 0x7fd7d47cedc0>, because it is not built.\n",
      "W0706 18:45:10.623858 140567432812352 save_impl.py:71] Skipping full serialization of Keras layer <object_detection.core.freezable_batch_norm.FreezableBatchNorm object at 0x7fd7d47cedc0>, because it is not built.\n",
      "WARNING:tensorflow:Skipping full serialization of Keras layer <keras.layers.core.lambda_layer.Lambda object at 0x7fd7d45ffbe0>, because it is not built.\n",
      "W0706 18:45:10.623964 140567432812352 save_impl.py:71] Skipping full serialization of Keras layer <keras.layers.core.lambda_layer.Lambda object at 0x7fd7d45ffbe0>, because it is not built.\n",
      "WARNING:tensorflow:Skipping full serialization of Keras layer <keras.layers.convolutional.separable_conv2d.SeparableConv2D object at 0x7fd7d473b520>, because it is not built.\n",
      "W0706 18:45:10.624048 140567432812352 save_impl.py:71] Skipping full serialization of Keras layer <keras.layers.convolutional.separable_conv2d.SeparableConv2D object at 0x7fd7d473b520>, because it is not built.\n",
      "WARNING:tensorflow:Skipping full serialization of Keras layer <object_detection.core.freezable_batch_norm.FreezableBatchNorm object at 0x7fd7d473ba60>, because it is not built.\n",
      "W0706 18:45:10.624125 140567432812352 save_impl.py:71] Skipping full serialization of Keras layer <object_detection.core.freezable_batch_norm.FreezableBatchNorm object at 0x7fd7d473ba60>, because it is not built.\n",
      "WARNING:tensorflow:Skipping full serialization of Keras layer <keras.layers.core.lambda_layer.Lambda object at 0x7fd7d473b040>, because it is not built.\n",
      "W0706 18:45:10.624202 140567432812352 save_impl.py:71] Skipping full serialization of Keras layer <keras.layers.core.lambda_layer.Lambda object at 0x7fd7d473b040>, because it is not built.\n",
      "WARNING:tensorflow:Skipping full serialization of Keras layer <keras.layers.convolutional.separable_conv2d.SeparableConv2D object at 0x7fd7d47f5d90>, because it is not built.\n",
      "W0706 18:45:10.624276 140567432812352 save_impl.py:71] Skipping full serialization of Keras layer <keras.layers.convolutional.separable_conv2d.SeparableConv2D object at 0x7fd7d47f5d90>, because it is not built.\n",
      "WARNING:tensorflow:Skipping full serialization of Keras layer <object_detection.core.freezable_batch_norm.FreezableBatchNorm object at 0x7fd7d47f5850>, because it is not built.\n",
      "W0706 18:45:10.624349 140567432812352 save_impl.py:71] Skipping full serialization of Keras layer <object_detection.core.freezable_batch_norm.FreezableBatchNorm object at 0x7fd7d47f5850>, because it is not built.\n",
      "WARNING:tensorflow:Skipping full serialization of Keras layer <keras.layers.core.lambda_layer.Lambda object at 0x7fd7d47f5160>, because it is not built.\n",
      "W0706 18:45:10.624424 140567432812352 save_impl.py:71] Skipping full serialization of Keras layer <keras.layers.core.lambda_layer.Lambda object at 0x7fd7d47f5160>, because it is not built.\n",
      "WARNING:tensorflow:Skipping full serialization of Keras layer <keras.layers.convolutional.separable_conv2d.SeparableConv2D object at 0x7fd7d47f5e80>, because it is not built.\n",
      "W0706 18:45:10.624497 140567432812352 save_impl.py:71] Skipping full serialization of Keras layer <keras.layers.convolutional.separable_conv2d.SeparableConv2D object at 0x7fd7d47f5e80>, because it is not built.\n",
      "WARNING:tensorflow:Skipping full serialization of Keras layer <object_detection.core.freezable_batch_norm.FreezableBatchNorm object at 0x7fd7d437e4c0>, because it is not built.\n",
      "W0706 18:45:10.624570 140567432812352 save_impl.py:71] Skipping full serialization of Keras layer <object_detection.core.freezable_batch_norm.FreezableBatchNorm object at 0x7fd7d437e4c0>, because it is not built.\n",
      "WARNING:tensorflow:Skipping full serialization of Keras layer <keras.layers.core.lambda_layer.Lambda object at 0x7fd7d437ea00>, because it is not built.\n",
      "W0706 18:45:10.624642 140567432812352 save_impl.py:71] Skipping full serialization of Keras layer <keras.layers.core.lambda_layer.Lambda object at 0x7fd7d437ea00>, because it is not built.\n",
      "WARNING:tensorflow:Skipping full serialization of Keras layer <object_detection.core.freezable_batch_norm.FreezableBatchNorm object at 0x7fd7dc1009a0>, because it is not built.\n",
      "W0706 18:45:10.624715 140567432812352 save_impl.py:71] Skipping full serialization of Keras layer <object_detection.core.freezable_batch_norm.FreezableBatchNorm object at 0x7fd7dc1009a0>, because it is not built.\n",
      "WARNING:tensorflow:Skipping full serialization of Keras layer <keras.layers.core.lambda_layer.Lambda object at 0x7fd7d449f0d0>, because it is not built.\n",
      "W0706 18:45:10.624788 140567432812352 save_impl.py:71] Skipping full serialization of Keras layer <keras.layers.core.lambda_layer.Lambda object at 0x7fd7d449f0d0>, because it is not built.\n",
      "WARNING:tensorflow:Skipping full serialization of Keras layer <object_detection.core.freezable_batch_norm.FreezableBatchNorm object at 0x7fd7d46e7ee0>, because it is not built.\n",
      "W0706 18:45:10.624860 140567432812352 save_impl.py:71] Skipping full serialization of Keras layer <object_detection.core.freezable_batch_norm.FreezableBatchNorm object at 0x7fd7d46e7ee0>, because it is not built.\n",
      "WARNING:tensorflow:Skipping full serialization of Keras layer <keras.layers.core.lambda_layer.Lambda object at 0x7fd7d46e7610>, because it is not built.\n",
      "W0706 18:45:10.624939 140567432812352 save_impl.py:71] Skipping full serialization of Keras layer <keras.layers.core.lambda_layer.Lambda object at 0x7fd7d46e7610>, because it is not built.\n",
      "WARNING:tensorflow:Skipping full serialization of Keras layer <object_detection.core.freezable_batch_norm.FreezableBatchNorm object at 0x7fd7d46f79d0>, because it is not built.\n",
      "W0706 18:45:10.625014 140567432812352 save_impl.py:71] Skipping full serialization of Keras layer <object_detection.core.freezable_batch_norm.FreezableBatchNorm object at 0x7fd7d46f79d0>, because it is not built.\n",
      "WARNING:tensorflow:Skipping full serialization of Keras layer <keras.layers.core.lambda_layer.Lambda object at 0x7fd7d46f76a0>, because it is not built.\n",
      "W0706 18:45:10.625088 140567432812352 save_impl.py:71] Skipping full serialization of Keras layer <keras.layers.core.lambda_layer.Lambda object at 0x7fd7d46f76a0>, because it is not built.\n",
      "WARNING:tensorflow:Skipping full serialization of Keras layer <object_detection.core.freezable_batch_norm.FreezableBatchNorm object at 0x7fd7d46f73d0>, because it is not built.\n",
      "W0706 18:45:10.625160 140567432812352 save_impl.py:71] Skipping full serialization of Keras layer <object_detection.core.freezable_batch_norm.FreezableBatchNorm object at 0x7fd7d46f73d0>, because it is not built.\n",
      "WARNING:tensorflow:Skipping full serialization of Keras layer <keras.layers.core.lambda_layer.Lambda object at 0x7fd7d46f7ca0>, because it is not built.\n",
      "W0706 18:45:10.625233 140567432812352 save_impl.py:71] Skipping full serialization of Keras layer <keras.layers.core.lambda_layer.Lambda object at 0x7fd7d46f7ca0>, because it is not built.\n",
      "WARNING:tensorflow:Skipping full serialization of Keras layer <object_detection.core.freezable_batch_norm.FreezableBatchNorm object at 0x7fd7dc1009d0>, because it is not built.\n",
      "W0706 18:45:10.625306 140567432812352 save_impl.py:71] Skipping full serialization of Keras layer <object_detection.core.freezable_batch_norm.FreezableBatchNorm object at 0x7fd7dc1009d0>, because it is not built.\n",
      "WARNING:tensorflow:Skipping full serialization of Keras layer <keras.layers.core.lambda_layer.Lambda object at 0x7fd7d44533a0>, because it is not built.\n",
      "W0706 18:45:10.625379 140567432812352 save_impl.py:71] Skipping full serialization of Keras layer <keras.layers.core.lambda_layer.Lambda object at 0x7fd7d44533a0>, because it is not built.\n",
      "WARNING:tensorflow:Skipping full serialization of Keras layer <object_detection.core.freezable_batch_norm.FreezableBatchNorm object at 0x7fd7d47c6580>, because it is not built.\n",
      "W0706 18:45:10.625452 140567432812352 save_impl.py:71] Skipping full serialization of Keras layer <object_detection.core.freezable_batch_norm.FreezableBatchNorm object at 0x7fd7d47c6580>, because it is not built.\n",
      "WARNING:tensorflow:Skipping full serialization of Keras layer <keras.layers.core.lambda_layer.Lambda object at 0x7fd7d47c6a00>, because it is not built.\n",
      "W0706 18:45:10.625530 140567432812352 save_impl.py:71] Skipping full serialization of Keras layer <keras.layers.core.lambda_layer.Lambda object at 0x7fd7d47c6a00>, because it is not built.\n",
      "WARNING:tensorflow:Skipping full serialization of Keras layer <object_detection.core.freezable_batch_norm.FreezableBatchNorm object at 0x7fd7d478bb80>, because it is not built.\n",
      "W0706 18:45:10.625602 140567432812352 save_impl.py:71] Skipping full serialization of Keras layer <object_detection.core.freezable_batch_norm.FreezableBatchNorm object at 0x7fd7d478bb80>, because it is not built.\n",
      "WARNING:tensorflow:Skipping full serialization of Keras layer <keras.layers.core.lambda_layer.Lambda object at 0x7fd7d478b850>, because it is not built.\n",
      "W0706 18:45:10.625675 140567432812352 save_impl.py:71] Skipping full serialization of Keras layer <keras.layers.core.lambda_layer.Lambda object at 0x7fd7d478b850>, because it is not built.\n",
      "WARNING:tensorflow:Skipping full serialization of Keras layer <object_detection.core.freezable_batch_norm.FreezableBatchNorm object at 0x7fd7d478bc40>, because it is not built.\n",
      "W0706 18:45:10.625747 140567432812352 save_impl.py:71] Skipping full serialization of Keras layer <object_detection.core.freezable_batch_norm.FreezableBatchNorm object at 0x7fd7d478bc40>, because it is not built.\n",
      "WARNING:tensorflow:Skipping full serialization of Keras layer <keras.layers.core.lambda_layer.Lambda object at 0x7fd7d478b970>, because it is not built.\n",
      "W0706 18:45:10.625820 140567432812352 save_impl.py:71] Skipping full serialization of Keras layer <keras.layers.core.lambda_layer.Lambda object at 0x7fd7d478b970>, because it is not built.\n",
      "WARNING:tensorflow:Skipping full serialization of Keras layer <object_detection.core.freezable_batch_norm.FreezableBatchNorm object at 0x7fd7dc100a00>, because it is not built.\n",
      "W0706 18:45:10.625897 140567432812352 save_impl.py:71] Skipping full serialization of Keras layer <object_detection.core.freezable_batch_norm.FreezableBatchNorm object at 0x7fd7dc100a00>, because it is not built.\n",
      "WARNING:tensorflow:Skipping full serialization of Keras layer <keras.layers.core.lambda_layer.Lambda object at 0x7fd7d47ec250>, because it is not built.\n",
      "W0706 18:45:10.625980 140567432812352 save_impl.py:71] Skipping full serialization of Keras layer <keras.layers.core.lambda_layer.Lambda object at 0x7fd7d47ec250>, because it is not built.\n",
      "WARNING:tensorflow:Skipping full serialization of Keras layer <object_detection.core.freezable_batch_norm.FreezableBatchNorm object at 0x7fd7d4757730>, because it is not built.\n",
      "W0706 18:45:10.626053 140567432812352 save_impl.py:71] Skipping full serialization of Keras layer <object_detection.core.freezable_batch_norm.FreezableBatchNorm object at 0x7fd7d4757730>, because it is not built.\n",
      "WARNING:tensorflow:Skipping full serialization of Keras layer <keras.layers.core.lambda_layer.Lambda object at 0x7fd7d47575b0>, because it is not built.\n",
      "W0706 18:45:10.626125 140567432812352 save_impl.py:71] Skipping full serialization of Keras layer <keras.layers.core.lambda_layer.Lambda object at 0x7fd7d47575b0>, because it is not built.\n",
      "WARNING:tensorflow:Skipping full serialization of Keras layer <object_detection.core.freezable_batch_norm.FreezableBatchNorm object at 0x7fd7d41633a0>, because it is not built.\n",
      "W0706 18:45:10.626197 140567432812352 save_impl.py:71] Skipping full serialization of Keras layer <object_detection.core.freezable_batch_norm.FreezableBatchNorm object at 0x7fd7d41633a0>, because it is not built.\n",
      "WARNING:tensorflow:Skipping full serialization of Keras layer <keras.layers.core.lambda_layer.Lambda object at 0x7fd7d42a3910>, because it is not built.\n",
      "W0706 18:45:10.626269 140567432812352 save_impl.py:71] Skipping full serialization of Keras layer <keras.layers.core.lambda_layer.Lambda object at 0x7fd7d42a3910>, because it is not built.\n",
      "WARNING:tensorflow:Skipping full serialization of Keras layer <object_detection.core.freezable_batch_norm.FreezableBatchNorm object at 0x7fd7d422c5b0>, because it is not built.\n",
      "W0706 18:45:10.626341 140567432812352 save_impl.py:71] Skipping full serialization of Keras layer <object_detection.core.freezable_batch_norm.FreezableBatchNorm object at 0x7fd7d422c5b0>, because it is not built.\n",
      "WARNING:tensorflow:Skipping full serialization of Keras layer <keras.layers.core.lambda_layer.Lambda object at 0x7fd7d422cb20>, because it is not built.\n",
      "W0706 18:45:10.626416 140567432812352 save_impl.py:71] Skipping full serialization of Keras layer <keras.layers.core.lambda_layer.Lambda object at 0x7fd7d422cb20>, because it is not built.\n",
      "WARNING:tensorflow:Skipping full serialization of Keras layer <object_detection.core.freezable_batch_norm.FreezableBatchNorm object at 0x7fd7d4168130>, because it is not built.\n",
      "W0706 18:45:10.626489 140567432812352 save_impl.py:71] Skipping full serialization of Keras layer <object_detection.core.freezable_batch_norm.FreezableBatchNorm object at 0x7fd7d4168130>, because it is not built.\n",
      "WARNING:tensorflow:Skipping full serialization of Keras layer <keras.layers.core.lambda_layer.Lambda object at 0x7fd7d4084c10>, because it is not built.\n",
      "W0706 18:45:10.626561 140567432812352 save_impl.py:71] Skipping full serialization of Keras layer <keras.layers.core.lambda_layer.Lambda object at 0x7fd7d4084c10>, because it is not built.\n",
      "WARNING:tensorflow:Skipping full serialization of Keras layer <object_detection.core.freezable_batch_norm.FreezableBatchNorm object at 0x7fd7d4784ac0>, because it is not built.\n",
      "W0706 18:45:10.626633 140567432812352 save_impl.py:71] Skipping full serialization of Keras layer <object_detection.core.freezable_batch_norm.FreezableBatchNorm object at 0x7fd7d4784ac0>, because it is not built.\n",
      "WARNING:tensorflow:Skipping full serialization of Keras layer <keras.layers.core.lambda_layer.Lambda object at 0x7fd7d47840a0>, because it is not built.\n",
      "W0706 18:45:10.626705 140567432812352 save_impl.py:71] Skipping full serialization of Keras layer <keras.layers.core.lambda_layer.Lambda object at 0x7fd7d47840a0>, because it is not built.\n",
      "WARNING:tensorflow:Skipping full serialization of Keras layer <object_detection.core.freezable_batch_norm.FreezableBatchNorm object at 0x7fd7d47b0340>, because it is not built.\n",
      "W0706 18:45:10.626776 140567432812352 save_impl.py:71] Skipping full serialization of Keras layer <object_detection.core.freezable_batch_norm.FreezableBatchNorm object at 0x7fd7d47b0340>, because it is not built.\n",
      "WARNING:tensorflow:Skipping full serialization of Keras layer <keras.layers.core.lambda_layer.Lambda object at 0x7fd7d47b0790>, because it is not built.\n",
      "W0706 18:45:10.626848 140567432812352 save_impl.py:71] Skipping full serialization of Keras layer <keras.layers.core.lambda_layer.Lambda object at 0x7fd7d47b0790>, because it is not built.\n",
      "WARNING:tensorflow:Skipping full serialization of Keras layer <object_detection.core.freezable_batch_norm.FreezableBatchNorm object at 0x7fd7d47b0d90>, because it is not built.\n",
      "W0706 18:45:10.626920 140567432812352 save_impl.py:71] Skipping full serialization of Keras layer <object_detection.core.freezable_batch_norm.FreezableBatchNorm object at 0x7fd7d47b0d90>, because it is not built.\n",
      "WARNING:tensorflow:Skipping full serialization of Keras layer <keras.layers.core.lambda_layer.Lambda object at 0x7fd7d47b0c10>, because it is not built.\n",
      "W0706 18:45:10.627002 140567432812352 save_impl.py:71] Skipping full serialization of Keras layer <keras.layers.core.lambda_layer.Lambda object at 0x7fd7d47b0c10>, because it is not built.\n"
     ]
    },
    {
     "name": "stdout",
     "output_type": "stream",
     "text": [
      "W0706 18:45:28.794926 140567432812352 save.py:233] Found untraced functions such as WeightSharedConvolutionalBoxPredictor_layer_call_fn, WeightSharedConvolutionalBoxPredictor_layer_call_and_return_conditional_losses, WeightSharedConvolutionalBoxHead_layer_call_fn, WeightSharedConvolutionalBoxHead_layer_call_and_return_conditional_losses, WeightSharedConvolutionalClassHead_layer_call_fn while saving (showing 5 of 173). These functions will not be directly callable after loading.\n",
      "INFO:tensorflow:Assets written to: Tensorflow/workspace/models/my_ssd_mobnet/tfliteexport/saved_model/assets\n",
      "I0706 18:45:34.397130 140567432812352 builder_impl.py:779] Assets written to: Tensorflow/workspace/models/my_ssd_mobnet/tfliteexport/saved_model/assets\n"
     ]
    }
   ],
   "source": [
    "!{command}"
   ]
  },
  {
   "cell_type": "code",
   "execution_count": 57,
   "metadata": {
    "id": "iJfYMbN6pfDL"
   },
   "outputs": [],
   "source": [
    "FROZEN_TFLITE_PATH = os.path.join(paths['TFLITE_PATH'], 'saved_model')\n",
    "TFLITE_MODEL = os.path.join(paths['TFLITE_PATH'], 'saved_model', 'detect.tflite')"
   ]
  },
  {
   "cell_type": "code",
   "execution_count": 58,
   "metadata": {},
   "outputs": [],
   "source": [
    "command = \"tflite_convert \\\n",
    "--saved_model_dir={} \\\n",
    "--output_file={} \\\n",
    "--input_shapes=1,300,300,3 \\\n",
    "--input_arrays=normalized_input_image_tensor \\\n",
    "--output_arrays='TFLite_Detection_PostProcess','TFLite_Detection_PostProcess:1','TFLite_Detection_PostProcess:2','TFLite_Detection_PostProcess:3' \\\n",
    "--inference_type=FLOAT \\\n",
    "--allow_custom_ops\".format(FROZEN_TFLITE_PATH, TFLITE_MODEL, )"
   ]
  },
  {
   "cell_type": "code",
   "execution_count": 59,
   "metadata": {
    "colab": {
     "base_uri": "https://localhost:8080/"
    },
    "id": "E8GwUeoFpfDL",
    "outputId": "fac43ea4-cc85-471b-a362-e994b06fd583"
   },
   "outputs": [
    {
     "name": "stdout",
     "output_type": "stream",
     "text": [
      "tflite_convert --saved_model_dir=Tensorflow/workspace/models/my_ssd_mobnet/tfliteexport/saved_model --output_file=Tensorflow/workspace/models/my_ssd_mobnet/tfliteexport/saved_model/detect.tflite --input_shapes=1,300,300,3 --input_arrays=normalized_input_image_tensor --output_arrays='TFLite_Detection_PostProcess','TFLite_Detection_PostProcess:1','TFLite_Detection_PostProcess:2','TFLite_Detection_PostProcess:3' --inference_type=FLOAT --allow_custom_ops\n"
     ]
    }
   ],
   "source": [
    "print(command)"
   ]
  },
  {
   "cell_type": "code",
   "execution_count": 60,
   "metadata": {
    "colab": {
     "base_uri": "https://localhost:8080/"
    },
    "id": "Nbd7gqHMpfDL",
    "outputId": "7c8fe6d5-2415-4641-8548-39d425c202f7"
   },
   "outputs": [
    {
     "name": "stdout",
     "output_type": "stream",
     "text": [
      "2022-07-06 18:45:36.992734: W tensorflow/stream_executor/platform/default/dso_loader.cc:64] Could not load dynamic library 'libcudart.so.11.0'; dlerror: libcudart.so.11.0: cannot open shared object file: No such file or directory; LD_LIBRARY_PATH: /usr/local/lib/python3.8/site-packages/cv2/../../../../lib64:\n",
      "2022-07-06 18:45:36.992761: I tensorflow/stream_executor/cuda/cudart_stub.cc:29] Ignore above cudart dlerror if you do not have a GPU set up on your machine.\n",
      "2022-07-06 18:45:39.183399: W tensorflow/stream_executor/platform/default/dso_loader.cc:64] Could not load dynamic library 'libcuda.so.1'; dlerror: libcuda.so.1: cannot open shared object file: No such file or directory; LD_LIBRARY_PATH: /usr/local/lib/python3.8/site-packages/cv2/../../../../lib64:\n",
      "2022-07-06 18:45:39.183531: W tensorflow/stream_executor/cuda/cuda_driver.cc:269] failed call to cuInit: UNKNOWN ERROR (303)\n",
      "2022-07-06 18:45:39.183594: I tensorflow/stream_executor/cuda/cuda_diagnostics.cc:156] kernel driver does not appear to be running on this host (localhost.localdomain): /proc/driver/nvidia/version does not exist\n",
      "2022-07-06 18:45:39.744950: I tensorflow/core/platform/cpu_feature_guard.cc:193] This TensorFlow binary is optimized with oneAPI Deep Neural Network Library (oneDNN) to use the following CPU instructions in performance-critical operations:  AVX2 FMA\n",
      "To enable them in other operations, rebuild TensorFlow with the appropriate compiler flags.\n",
      "2022-07-06 18:45:51.151964: W tensorflow/compiler/mlir/lite/python/tf_tfl_flatbuffer_helpers.cc:362] Ignored output_format.\n",
      "2022-07-06 18:45:51.152011: W tensorflow/compiler/mlir/lite/python/tf_tfl_flatbuffer_helpers.cc:365] Ignored drop_control_dependency.\n",
      "2022-07-06 18:45:51.152910: I tensorflow/cc/saved_model/reader.cc:43] Reading SavedModel from: Tensorflow/workspace/models/my_ssd_mobnet/tfliteexport/saved_model\n",
      "2022-07-06 18:45:51.235196: I tensorflow/cc/saved_model/reader.cc:81] Reading meta graph with tags { serve }\n",
      "2022-07-06 18:45:51.235249: I tensorflow/cc/saved_model/reader.cc:122] Reading SavedModel debug info (if present) from: Tensorflow/workspace/models/my_ssd_mobnet/tfliteexport/saved_model\n",
      "2022-07-06 18:45:51.443304: I tensorflow/compiler/mlir/mlir_graph_optimization_pass.cc:354] MLIR V1 optimization pass is not enabled\n",
      "2022-07-06 18:45:51.497026: I tensorflow/cc/saved_model/loader.cc:228] Restoring SavedModel bundle.\n",
      "2022-07-06 18:45:52.480169: I tensorflow/cc/saved_model/loader.cc:212] Running initialization op on SavedModel bundle at path: Tensorflow/workspace/models/my_ssd_mobnet/tfliteexport/saved_model\n",
      "2022-07-06 18:45:52.976011: I tensorflow/cc/saved_model/loader.cc:301] SavedModel load for tags { serve }; Status: success: OK. Took 1823105 microseconds.\n",
      "2022-07-06 18:45:53.712318: I tensorflow/compiler/mlir/tensorflow/utils/dump_mlir_util.cc:263] disabling MLIR crash reproducer, set env var `MLIR_CRASH_REPRODUCER_DIRECTORY` to enable.\n",
      "2022-07-06 18:45:54.575166: I tensorflow/compiler/mlir/lite/flatbuffer_export.cc:1972] Estimated count of arithmetic ops: 1.718 G  ops, equivalently 0.859 G  MACs\n",
      "\n",
      "Estimated count of arithmetic ops: 1.718 G  ops, equivalently 0.859 G  MACs\n"
     ]
    }
   ],
   "source": [
    "!{command}"
   ]
  },
  {
   "cell_type": "markdown",
   "metadata": {
    "id": "5NQqZRdA21Uc"
   },
   "source": [
    "# 13. Zip and Export Models "
   ]
  },
  {
   "cell_type": "code",
   "execution_count": 61,
   "metadata": {
    "id": "tTVTGCQp2ZJJ"
   },
   "outputs": [],
   "source": [
    "!tar -czf models.tar.gz {paths['CHECKPOINT_PATH']}"
   ]
  },
  {
   "cell_type": "code",
   "execution_count": 62,
   "metadata": {
    "colab": {
     "base_uri": "https://localhost:8080/"
    },
    "id": "whShhB0x3PYJ",
    "outputId": "b773201d-35c9-46a8-b893-4a76bd4d5d97"
   },
   "outputs": [
    {
     "ename": "ModuleNotFoundError",
     "evalue": "No module named 'google.colab'",
     "output_type": "error",
     "traceback": [
      "\u001b[0;31m---------------------------------------------------------------------------\u001b[0m",
      "\u001b[0;31mModuleNotFoundError\u001b[0m                       Traceback (most recent call last)",
      "Input \u001b[0;32mIn [62]\u001b[0m, in \u001b[0;36m<cell line: 1>\u001b[0;34m()\u001b[0m\n\u001b[0;32m----> 1\u001b[0m \u001b[38;5;28;01mfrom\u001b[39;00m \u001b[38;5;21;01mgoogle\u001b[39;00m\u001b[38;5;21;01m.\u001b[39;00m\u001b[38;5;21;01mcolab\u001b[39;00m \u001b[38;5;28;01mimport\u001b[39;00m drive\n\u001b[1;32m      2\u001b[0m drive\u001b[38;5;241m.\u001b[39mmount(\u001b[38;5;124m'\u001b[39m\u001b[38;5;124m/content/drive\u001b[39m\u001b[38;5;124m'\u001b[39m)\n",
      "\u001b[0;31mModuleNotFoundError\u001b[0m: No module named 'google.colab'"
     ]
    }
   ],
   "source": [
    "from google.colab import drive\n",
    "drive.mount('/content/drive')"
   ]
  },
  {
   "cell_type": "code",
   "execution_count": null,
   "metadata": {},
   "outputs": [],
   "source": []
  },
  {
   "cell_type": "code",
   "execution_count": null,
   "metadata": {},
   "outputs": [],
   "source": []
  },
  {
   "cell_type": "code",
   "execution_count": null,
   "metadata": {},
   "outputs": [],
   "source": []
  }
 ],
 "metadata": {
  "accelerator": "GPU",
  "colab": {
   "name": "3. Training and Detection.ipynb",
   "provenance": []
  },
  "kernelspec": {
   "display_name": "Python 3 (ipykernel)",
   "language": "python",
   "name": "python3"
  },
  "language_info": {
   "codemirror_mode": {
    "name": "ipython",
    "version": 3
   },
   "file_extension": ".py",
   "mimetype": "text/x-python",
   "name": "python",
   "nbconvert_exporter": "python",
   "pygments_lexer": "ipython3",
   "version": "3.8.10"
  }
 },
 "nbformat": 4,
 "nbformat_minor": 1
}
